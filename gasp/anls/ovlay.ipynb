{
 "cells": [
  {
   "cell_type": "markdown",
   "metadata": {},
   "source": [
    "### Identifica diferenças geométrias e temáticas entre várias ESRI Shapefiles ##"
   ]
  },
  {
   "cell_type": "code",
   "execution_count": null,
   "metadata": {},
   "outputs": [],
   "source": [
    "from gasp.anls.ovlay import check_shape_diff\n",
    "\n",
    "# Inputs\n",
    "\n",
    "SHAPES_TO_COMPARE = {\n",
    "    r'D:\\indev\\OSM2LULC\\WEB_Via\\results_fev19\\lisboa\\v11_lsb.shp'       : \"cls_int\",\n",
    "    r'D:\\indev\\OSM2LULC\\WEB_Via\\results_fev19\\lisboa\\v12_lsb.shp'       : \"cls_int\",\n",
    "    r'D:\\indev\\OSM2LULC\\WEB_Via\\results_fev19\\lisboa\\v13_lsb_2x2.tif'   : None,\n",
    "    r'D:\\indev\\OSM2LULC\\WEB_Via\\results_fev19\\lisboa\\v13_lsb_5x5.tif'   : None,\n",
    "    r'D:\\indev\\OSM2LULC\\WEB_Via\\results_fev19\\lisboa\\v13_lsb_10x10.tif' : None,\n",
    "    r'D:\\indev\\OSM2LULC\\WEB_Via\\results_fev19\\lisboa\\v14_lsb_2x2.tif'   : None,\n",
    "    r'D:\\indev\\OSM2LULC\\WEB_Via\\results_fev19\\lisboa\\v14_lsb_5x5.tif'   : None,\n",
    "    r'D:\\indev\\OSM2LULC\\WEB_Via\\results_fev19\\lisboa\\v14_lsb_10x10.tif' : None\n",
    "}\n",
    "\n",
    "OUT_FOLDER = r'D:\\indev\\OSM2LULC\\WEB_Via\\results_fev19\\lsb_anls'\n",
    "REPORT     = r'D:\\indev\\OSM2LULC\\WEB_Via\\results_fev19\\lsb_compare.xlsx'\n",
    "\n",
    "conPARAM = {\n",
    "    \"HOST\" : \"localhost\", \"PORT\" : \"5432\",\n",
    "    \"USER\" : \"postgres\", \"PASSWORD\" : \"admin\", \"TEMPLATE\" : \"postgis_template\"\n",
    "}\n",
    "\n",
    "DB = \"lsb_compare\"\n",
    "\n",
    "srs_code = 3857\n",
    "\n",
    "RASTER_TEMPLATE = r'D:\\indev\\OSM2LULC\\WEB_Via\\results_fev19\\lisboa\\v14_lsb_2x2.tif'\n",
    "\n",
    "check_shape_diff(SHAPES_TO_COMPARE, OUT_FOLDER, REPORT, conPARAM, DB, srs_code,\n",
    "                GIS_SOFTWARE=\"GRASS\", RST_GRASS_TEMPLATE=RASTER_TEMPLATE)"
   ]
  },
  {
   "cell_type": "markdown",
   "metadata": {},
   "source": [
    "### Union Analysis ###"
   ]
  },
  {
   "cell_type": "code",
   "execution_count": null,
   "metadata": {},
   "outputs": [],
   "source": [
    "from gasp.anls.ovlay import union\n",
    "\n",
    "LYR_A  = r'D:\\indev\\OSM2LULC\\WEB_Via\\results_fev19\\coimbra\\v13_coimbra.shp'\n",
    "LYR_B  = r'D:\\indev\\OSM2LULC\\WEB_Via\\results_fev19\\coimbra\\v11_coimbra_clp.shp'\n",
    "outSHP = r'D:\\indev\\OSM2LULC\\WEB_Via\\results_fev19\\teste_v13_v11.shp'\n",
    "API    = 'saga'\n",
    "\n",
    "union(LYR_A, LYR_B, outSHP, api_gis=API)"
   ]
  },
  {
   "cell_type": "markdown",
   "metadata": {},
   "source": [
    "### Union Analysis in GRASS GIS ###"
   ]
  },
  {
   "cell_type": "code",
   "execution_count": null,
   "metadata": {},
   "outputs": [],
   "source": [
    "from gasp.cpu.grs import run_grass\n",
    "from gasp.oss import get_filename\n",
    "\n",
    "GRS_WORKSPACE = r'D:\\indev\\OSM2LULC\\WEB_Via\\results_fev19'\n",
    "LYR_A  = r'D:\\indev\\OSM2LULC\\WEB_Via\\results_fev19\\coimbra\\v13_coimbra.shp'\n",
    "LYR_B  = r'D:\\indev\\OSM2LULC\\WEB_Via\\results_fev19\\coimbra\\v11_coimbra_clp.shp'\n",
    "outSHP = r'D:\\indev\\OSM2LULC\\WEB_Via\\results_fev19\\grass_v13_v11.shp'\n",
    "\n",
    "grsbase = run_grass(GRS_WORKSPACE, location='tst_union', srs=3763)\n",
    "import grass.script.setup as gsetup\n",
    "gsetup.init(grsbase, GRS_WORKSPACE, 'tst_union', 'PERMANENT')\n",
    "\n",
    "# Import data\n",
    "from gasp.to.shp.grs import shp_to_grs\n",
    "\n",
    "lyr_a = shp_to_grs(LYR_A, get_filename(LYR_A), asCMD=True)\n",
    "lyr_b = shp_to_grs(LYR_B, get_filename(LYR_B), asCMD=True)\n",
    "\n",
    "import datetime\n",
    "time_a = datetime.datetime.now().replace(microsecond=0)\n",
    "\n",
    "from gasp.anls.ovlay import union\n",
    "shpUnion = union(lyr_a, lyr_b, get_filename(outSHP), api_gis=\"grass_cmd\")\n",
    "\n",
    "time_b = datetime.datetime.now().replace(microsecond=0)\n",
    "\n",
    "print time_b - time_a\n",
    "\n",
    "# Export data\n",
    "from gasp.to.shp.grs import grs_to_shp\n",
    "result = grs_to_shp(shpUnion, outSHP, \"area\")"
   ]
  },
  {
   "cell_type": "code",
   "execution_count": 1,
   "metadata": {},
   "outputs": [
    {
     "ename": "ValueError",
     "evalue": "Output: b''\nError: b'Traceback (most recent call last):\\r\\n  File \"C:\\\\Program Files\\\\GRASS GIS 7.6.0/scripts/v.clip.py\", line 198, in <module>\\r\\n    opt, flg = parser()\\r\\n  File \"C:\\\\Program Files\\\\GRASS GIS 7.6.0\\\\etc\\\\python\\\\grass\\\\script\\\\core.py\", line 781, in parser\\r\\n    environ[b\\'CMDLINE\\'] = b\\' \\'.join(cmdline)\\r\\n  File \"C:\\\\Python37\\\\lib\\\\os.py\", line 682, in __setitem__\\r\\n    key = self.encodekey(key)\\r\\n  File \"C:\\\\Python37\\\\lib\\\\os.py\", line 744, in encodekey\\r\\n    return encode(key).upper()\\r\\n  File \"C:\\\\Python37\\\\lib\\\\os.py\", line 739, in check_str\\r\\n    raise TypeError(\"str expected, not %s\" % type(value).__name__)\\r\\nTypeError: str expected, not bytes\\r\\n'",
     "output_type": "error",
     "traceback": [
      "\u001b[1;31m---------------------------------------------------------------------------\u001b[0m",
      "\u001b[1;31mValueError\u001b[0m                                Traceback (most recent call last)",
      "\u001b[1;32m<ipython-input-1-02b6ab234a94>\u001b[0m in \u001b[0;36m<module>\u001b[1;34m\u001b[0m\n\u001b[0;32m     42\u001b[0m     \u001b[0mget_filename\u001b[0m\u001b[1;33m(\u001b[0m\u001b[0mLYR_A\u001b[0m\u001b[1;33m)\u001b[0m\u001b[1;33m,\u001b[0m \u001b[0mget_filename\u001b[0m\u001b[1;33m(\u001b[0m\u001b[0mcellsShp\u001b[0m\u001b[1;33m[\u001b[0m\u001b[0mx\u001b[0m\u001b[1;33m]\u001b[0m\u001b[1;33m)\u001b[0m\u001b[1;33m,\u001b[0m\u001b[1;33m\u001b[0m\u001b[1;33m\u001b[0m\u001b[0m\n\u001b[0;32m     43\u001b[0m     \u001b[0mget_filename\u001b[0m\u001b[1;33m(\u001b[0m\u001b[0mLYR_A\u001b[0m\u001b[1;33m)\u001b[0m \u001b[1;33m+\u001b[0m \u001b[1;34m\"_\"\u001b[0m \u001b[1;33m+\u001b[0m \u001b[0mstr\u001b[0m\u001b[1;33m(\u001b[0m\u001b[0mx\u001b[0m\u001b[1;33m)\u001b[0m\u001b[1;33m,\u001b[0m \u001b[0mapi_gis\u001b[0m\u001b[1;33m=\u001b[0m\u001b[1;34m\"grass_cmd\"\u001b[0m\u001b[1;33m\u001b[0m\u001b[1;33m\u001b[0m\u001b[0m\n\u001b[1;32m---> 44\u001b[1;33m ) for x in range(len(cellsShp))]\n\u001b[0m\u001b[0;32m     45\u001b[0m \u001b[1;33m\u001b[0m\u001b[0m\n\u001b[0;32m     46\u001b[0m \u001b[0mtime_b\u001b[0m \u001b[1;33m=\u001b[0m \u001b[0mdatetime\u001b[0m\u001b[1;33m.\u001b[0m\u001b[0mdatetime\u001b[0m\u001b[1;33m.\u001b[0m\u001b[0mnow\u001b[0m\u001b[1;33m(\u001b[0m\u001b[1;33m)\u001b[0m\u001b[1;33m.\u001b[0m\u001b[0mreplace\u001b[0m\u001b[1;33m(\u001b[0m\u001b[0mmicrosecond\u001b[0m\u001b[1;33m=\u001b[0m\u001b[1;36m0\u001b[0m\u001b[1;33m)\u001b[0m\u001b[1;33m\u001b[0m\u001b[1;33m\u001b[0m\u001b[0m\n",
      "\u001b[1;32m<ipython-input-1-02b6ab234a94>\u001b[0m in \u001b[0;36m<listcomp>\u001b[1;34m(.0)\u001b[0m\n\u001b[0;32m     42\u001b[0m     \u001b[0mget_filename\u001b[0m\u001b[1;33m(\u001b[0m\u001b[0mLYR_A\u001b[0m\u001b[1;33m)\u001b[0m\u001b[1;33m,\u001b[0m \u001b[0mget_filename\u001b[0m\u001b[1;33m(\u001b[0m\u001b[0mcellsShp\u001b[0m\u001b[1;33m[\u001b[0m\u001b[0mx\u001b[0m\u001b[1;33m]\u001b[0m\u001b[1;33m)\u001b[0m\u001b[1;33m,\u001b[0m\u001b[1;33m\u001b[0m\u001b[1;33m\u001b[0m\u001b[0m\n\u001b[0;32m     43\u001b[0m     \u001b[0mget_filename\u001b[0m\u001b[1;33m(\u001b[0m\u001b[0mLYR_A\u001b[0m\u001b[1;33m)\u001b[0m \u001b[1;33m+\u001b[0m \u001b[1;34m\"_\"\u001b[0m \u001b[1;33m+\u001b[0m \u001b[0mstr\u001b[0m\u001b[1;33m(\u001b[0m\u001b[0mx\u001b[0m\u001b[1;33m)\u001b[0m\u001b[1;33m,\u001b[0m \u001b[0mapi_gis\u001b[0m\u001b[1;33m=\u001b[0m\u001b[1;34m\"grass_cmd\"\u001b[0m\u001b[1;33m\u001b[0m\u001b[1;33m\u001b[0m\u001b[0m\n\u001b[1;32m---> 44\u001b[1;33m ) for x in range(len(cellsShp))]\n\u001b[0m\u001b[0;32m     45\u001b[0m \u001b[1;33m\u001b[0m\u001b[0m\n\u001b[0;32m     46\u001b[0m \u001b[0mtime_b\u001b[0m \u001b[1;33m=\u001b[0m \u001b[0mdatetime\u001b[0m\u001b[1;33m.\u001b[0m\u001b[0mdatetime\u001b[0m\u001b[1;33m.\u001b[0m\u001b[0mnow\u001b[0m\u001b[1;33m(\u001b[0m\u001b[1;33m)\u001b[0m\u001b[1;33m.\u001b[0m\u001b[0mreplace\u001b[0m\u001b[1;33m(\u001b[0m\u001b[0mmicrosecond\u001b[0m\u001b[1;33m=\u001b[0m\u001b[1;36m0\u001b[0m\u001b[1;33m)\u001b[0m\u001b[1;33m\u001b[0m\u001b[1;33m\u001b[0m\u001b[0m\n",
      "\u001b[1;32mD:\\xpto\\gasp\\gasp\\anls\\ovlay.py\u001b[0m in \u001b[0;36mclip\u001b[1;34m(inFeat, clipFeat, outFeat, api_gis)\u001b[0m\n\u001b[0;32m     30\u001b[0m         rcmd = exec_cmd(\n\u001b[0;32m     31\u001b[0m             \"v.clip input={} clip={} output={} --overwrite\".format(\n\u001b[1;32m---> 32\u001b[1;33m                 \u001b[0minFeat\u001b[0m\u001b[1;33m,\u001b[0m \u001b[0mclipFeat\u001b[0m\u001b[1;33m,\u001b[0m \u001b[0moutFeat\u001b[0m\u001b[1;33m\u001b[0m\u001b[1;33m\u001b[0m\u001b[0m\n\u001b[0m\u001b[0;32m     33\u001b[0m             )\n\u001b[0;32m     34\u001b[0m         )\n",
      "\u001b[1;32mD:\\xpto\\gasp\\gasp\\__init__.py\u001b[0m in \u001b[0;36mexec_cmd\u001b[1;34m(cmd)\u001b[0m\n\u001b[0;32m     30\u001b[0m     \u001b[1;32mif\u001b[0m \u001b[0mp\u001b[0m\u001b[1;33m.\u001b[0m\u001b[0mreturncode\u001b[0m \u001b[1;33m!=\u001b[0m \u001b[1;36m0\u001b[0m\u001b[1;33m:\u001b[0m\u001b[1;33m\u001b[0m\u001b[1;33m\u001b[0m\u001b[0m\n\u001b[0;32m     31\u001b[0m         raise ValueError(\n\u001b[1;32m---> 32\u001b[1;33m             \u001b[1;34m'Output: {o}\\nError: {e}'\u001b[0m\u001b[1;33m.\u001b[0m\u001b[0mformat\u001b[0m\u001b[1;33m(\u001b[0m\u001b[0mo\u001b[0m\u001b[1;33m=\u001b[0m\u001b[0mstr\u001b[0m\u001b[1;33m(\u001b[0m\u001b[0mout\u001b[0m\u001b[1;33m)\u001b[0m\u001b[1;33m,\u001b[0m \u001b[0me\u001b[0m\u001b[1;33m=\u001b[0m\u001b[0mstr\u001b[0m\u001b[1;33m(\u001b[0m\u001b[0merr\u001b[0m\u001b[1;33m)\u001b[0m\u001b[1;33m)\u001b[0m\u001b[1;33m\u001b[0m\u001b[1;33m\u001b[0m\u001b[0m\n\u001b[0m\u001b[0;32m     33\u001b[0m         )\n\u001b[0;32m     34\u001b[0m \u001b[1;33m\u001b[0m\u001b[0m\n",
      "\u001b[1;31mValueError\u001b[0m: Output: b''\nError: b'Traceback (most recent call last):\\r\\n  File \"C:\\\\Program Files\\\\GRASS GIS 7.6.0/scripts/v.clip.py\", line 198, in <module>\\r\\n    opt, flg = parser()\\r\\n  File \"C:\\\\Program Files\\\\GRASS GIS 7.6.0\\\\etc\\\\python\\\\grass\\\\script\\\\core.py\", line 781, in parser\\r\\n    environ[b\\'CMDLINE\\'] = b\\' \\'.join(cmdline)\\r\\n  File \"C:\\\\Python37\\\\lib\\\\os.py\", line 682, in __setitem__\\r\\n    key = self.encodekey(key)\\r\\n  File \"C:\\\\Python37\\\\lib\\\\os.py\", line 744, in encodekey\\r\\n    return encode(key).upper()\\r\\n  File \"C:\\\\Python37\\\\lib\\\\os.py\", line 739, in check_str\\r\\n    raise TypeError(\"str expected, not %s\" % type(value).__name__)\\r\\nTypeError: str expected, not bytes\\r\\n'"
     ]
    }
   ],
   "source": [
    "\"\"\"\n",
    "Optimized Union Analysis\n",
    "\"\"\"\n",
    "\n",
    "import os\n",
    "from gasp.oss import get_filename\n",
    "from gasp.cpu.gdl.mng.sample import create_fishnet\n",
    "from gasp.mng.feat import eachfeat_to_newshp\n",
    "from gasp.cpu.grs import run_grass\n",
    "\n",
    "LYR_A        = r'D:\\indev\\OSM2LULC\\WEB_Via\\results_fev19\\coimbra\\v11_cmb.shp'\n",
    "LYR_B        = r'D:\\indev\\OSM2LULC\\WEB_Via\\results_fev19\\coimbra\\v12_cmb.shp'\n",
    "OUT_FOLDER   = r'D:\\indev\\OSM2LULC\\WEB_Via\\tst_union'\n",
    "REF_BOUNDARY = r'D:\\indev\\OSM2LULC\\WEB_Via\\boundaries\\coimbra_20x20.shp'\n",
    "EPSG = 3857\n",
    "\n",
    "# Create Fishnet\n",
    "gridShp = create_fishnet(\n",
    "    REF_BOUNDARY, os.path.join(OUT_FOLDER, 'ref_grid.shp'),\n",
    "    rowN=4, colN=4\n",
    ")\n",
    "\n",
    "# Split Fishnet in several files\n",
    "cellsShp = eachfeat_to_newshp(gridShp, OUT_FOLDER, epsg=EPSG)\n",
    "\n",
    "# INIT GRASS GIS Session\n",
    "grsbase = run_grass(OUT_FOLDER, location=\"proc\", srs=REF_BOUNDARY)\n",
    "import grass.script.setup as gsetup\n",
    "gsetup.init(grsbase, OUT_FOLDER, \"proc\", 'PERMANENT')\n",
    "\n",
    "import datetime\n",
    "time_a = datetime.datetime.now().replace(microsecond=0)\n",
    "\n",
    "# Add data to GRASS GIS\n",
    "from gasp.to.shp.grs import shp_to_grs\n",
    "for shp in cellsShp + [LYR_A, LYR_B]:\n",
    "    shp_to_grs(shp, get_filename(shp), asCMD=True)\n",
    "\n",
    "# Clip Layers A and B for each CELL in fishnet\n",
    "from gasp.anls.ovlay import clip\n",
    "LYRS_A = [clip(\n",
    "    get_filename(LYR_A), get_filename(cellsShp[x]),\n",
    "    get_filename(LYR_A) + \"_\" + str(x), api_gis=\"grass_cmd\"\n",
    ") for x in range(len(cellsShp))]\n",
    "\n",
    "time_b = datetime.datetime.now().replace(microsecond=0)\n",
    "\n",
    "LYRS_B = [clip(\n",
    "    get_filename(LYR_B), get_filename(cellsShp[x]),\n",
    "    get_filename(LYR_B) + \"_\" + str(x), api_gis=\"grass_cmd\"\n",
    ") for x in range(len(cellsShp))]\n",
    "\n",
    "time_c = datetime.datetime.now().replace(microsecond=0)\n",
    "\n",
    "print(\"Total Time:\")\n",
    "print(time_c - time_a)\n",
    "print(\"LYR_A_CLIP\")\n",
    "print(time_b - time_a)\n",
    "print(\"LYR_B_CLIP\")\n",
    "print(time_c - time_b)"
   ]
  },
  {
   "cell_type": "code",
   "execution_count": null,
   "metadata": {},
   "outputs": [],
   "source": []
  }
 ],
 "metadata": {
  "kernelspec": {
   "display_name": "Python 3",
   "language": "python",
   "name": "python3"
  },
  "language_info": {
   "codemirror_mode": {
    "name": "ipython",
    "version": 3
   },
   "file_extension": ".py",
   "mimetype": "text/x-python",
   "name": "python",
   "nbconvert_exporter": "python",
   "pygments_lexer": "ipython3",
   "version": "3.7.2"
  }
 },
 "nbformat": 4,
 "nbformat_minor": 2
}
