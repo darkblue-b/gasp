{
 "cells": [
  {
   "cell_type": "markdown",
   "metadata": {},
   "source": [
    "### Identifica diferenças geométrias e temáticas entre várias ESRI Shapefiles ##"
   ]
  },
  {
   "cell_type": "code",
   "execution_count": null,
   "metadata": {},
   "outputs": [],
   "source": [
    "from gasp.core.anls.ovlay import check_shape_diff\n",
    "\n",
    "# Inputs\n",
    "\n",
    "SHAPES_TO_COMPARE = {\n",
    "    r'C:\\giswork\\OSM2LULC_15Nov\\result\\milao\\vgrs_milao.shp'     : \"cls_int\",\n",
    "    r'C:\\giswork\\OSM2LULC_15Nov\\result\\milao\\vsqlite_milao.shp'  : \"cls_int\",\n",
    "    r'C:\\giswork\\OSM2LULC_15Nov\\result\\milao\\rstgrs_milao10.shp' : \"gridcode\",\n",
    "    r'C:\\giswork\\OSM2LULC_15Nov\\result\\milao\\rstgrs_milao5.shp'  : \"gridcode\",\n",
    "    r'C:\\giswork\\OSM2LULC_15Nov\\result\\milao\\rstgrs_milao2.shp'  : \"gridcode\",\n",
    "    r'C:\\giswork\\OSM2LULC_15Nov\\result\\milao\\num_milao10.tif'    : None,\n",
    "    r'C:\\giswork\\OSM2LULC_15Nov\\result\\milao\\num_milao5.tif'     : None,\n",
    "    r'C:\\giswork\\OSM2LULC_15Nov\\result\\milao\\num_milao2.tif'     : None\n",
    "}\n",
    "\n",
    "OUT_FOLDER = r'C:\\giswork\\OSM2LULC_15Nov\\result\\milao_anls'\n",
    "REPORT     = r'C:\\giswork\\OSM2LULC_15Nov\\result\\milao_anls\\milao_comparing.xlsx'\n",
    "\n",
    "conPARAM = {\n",
    "    \"HOST\" : \"localhost\", \"PORT\" : \"5432\",\n",
    "    \"USER\" : \"postgres\", \"PASSWORD\" : \"admin\", \"TEMPLATE\" : \"postgis_template\"\n",
    "}\n",
    "\n",
    "DB = \"milao_anls\"\n",
    "\n",
    "srs_code = 3857\n",
    "\n",
    "check_shape_diff(SHAPES_TO_COMPARE, OUT_FOLDER, REPORT, conPARAM, DB, srs_code)"
   ]
  },
  {
   "cell_type": "code",
   "execution_count": null,
   "metadata": {},
   "outputs": [],
   "source": []
  }
 ],
 "metadata": {
  "kernelspec": {
   "display_name": "Python 2",
   "language": "python",
   "name": "python2"
  },
  "language_info": {
   "codemirror_mode": {
    "name": "ipython",
    "version": 2
   },
   "file_extension": ".py",
   "mimetype": "text/x-python",
   "name": "python",
   "nbconvert_exporter": "python",
   "pygments_lexer": "ipython2",
   "version": "2.7.14"
  }
 },
 "nbformat": 4,
 "nbformat_minor": 2
}
