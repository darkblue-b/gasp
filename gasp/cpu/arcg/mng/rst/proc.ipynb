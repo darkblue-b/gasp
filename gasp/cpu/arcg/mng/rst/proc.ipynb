{
 "cells": [
  {
   "cell_type": "code",
   "execution_count": null,
   "metadata": {},
   "outputs": [],
   "source": [
    "\"\"\"\n",
    "Clip a raster for each feature class in a folder\n",
    "\"\"\"\n",
    "\n",
    "from gasp.arcg.mng.rst.proc import clip_raster_each_feat_class\n",
    "\n",
    "RASTER        = r'C:\\gis\\EXT_CGI\\base\\dem\\srtm\\srtm_10x10_corr.tif'\n",
    "CLIP_FOLDER   = r'C:\\gis\\EXT_CGI\\validation\\view\\buffer_cells'\n",
    "output_FOLDER = r'C:\\gis\\EXT_CGI\\validation\\view\\strm'\n",
    "SNAP_RASTER   = r'C:\\gis\\EXT_CGI\\validation\\view\\rst_ref.tif'\n",
    "CLIP_GEOMETRY = True\n",
    "\n",
    "clip_raster_each_feat_class(\n",
    "    RASTER, CLIP_FOLDER, output_FOLDER, snap=SNAP_RASTER,\n",
    "    clipGeometry=CLIP_GEOMETRY\n",
    ")"
   ]
  },
  {
   "cell_type": "code",
   "execution_count": null,
   "metadata": {},
   "outputs": [],
   "source": []
  }
 ],
 "metadata": {
  "kernelspec": {
   "display_name": "Python 2",
   "language": "python",
   "name": "python2"
  },
  "language_info": {
   "codemirror_mode": {
    "name": "ipython",
    "version": 2
   },
   "file_extension": ".py",
   "mimetype": "text/x-python",
   "name": "python",
   "nbconvert_exporter": "python",
   "pygments_lexer": "ipython2",
   "version": "2.7.13"
  }
 },
 "nbformat": 4,
 "nbformat_minor": 2
}
