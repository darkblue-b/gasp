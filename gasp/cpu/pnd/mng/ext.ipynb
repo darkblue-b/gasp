{
 "cells": [
  {
   "cell_type": "code",
   "execution_count": 1,
   "metadata": {},
   "outputs": [
    {
     "data": {
      "text/plain": [
       "'C:\\\\gis\\\\EXT_CGI\\\\validation\\\\view\\\\bf_cell.shp'"
      ]
     },
     "execution_count": 1,
     "metadata": {},
     "output_type": "execute_result"
    }
   ],
   "source": [
    "from gasp.pnd.mng.ext import buffer_extent\n",
    "\n",
    "INPUT_FEATURE_CLASSES = r'C:\\gis\\EXT_CGI\\ref_grids\\grid_10x10km.shp'\n",
    "EPSG = 3763\n",
    "TOLERANCE = 10000\n",
    "OUTSHP = r'C:\\gis\\EXT_CGI\\validation\\view\\bf_cell.shp'\n",
    "\n",
    "buffer_extent(INPUT_FEATURE_CLASSES, EPSG, TOLERANCE, OUTSHP)"
   ]
  },
  {
   "cell_type": "code",
   "execution_count": null,
   "metadata": {},
   "outputs": [],
   "source": []
  }
 ],
 "metadata": {
  "kernelspec": {
   "display_name": "Python 2",
   "language": "python",
   "name": "python2"
  },
  "language_info": {
   "codemirror_mode": {
    "name": "ipython",
    "version": 2
   },
   "file_extension": ".py",
   "mimetype": "text/x-python",
   "name": "python",
   "nbconvert_exporter": "python",
   "pygments_lexer": "ipython2",
   "version": "2.7.13"
  }
 },
 "nbformat": 4,
 "nbformat_minor": 2
}
