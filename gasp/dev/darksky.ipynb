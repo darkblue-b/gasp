{
 "cells": [
  {
   "cell_type": "code",
   "execution_count": 1,
   "metadata": {},
   "outputs": [],
   "source": [
    "main_url = 'https://api.darksky.net/forecast'\n",
    "\n",
    "api_key = 'b39957bd384bbd0e780aae757eeb3116'\n",
    "\n",
    "lat, lng =  40.1973318,-8.4103187\n",
    "\n",
    "time_d  = '2019-05-02T08:00:00'"
   ]
  },
  {
   "cell_type": "code",
   "execution_count": 2,
   "metadata": {},
   "outputs": [
    {
     "name": "stdout",
     "output_type": "stream",
     "text": [
      "https://api.darksky.net/forecast/b39957bd384bbd0e780aae757eeb3116/40.1973318,-8.4103187,2019-05-02T08:00:00\n"
     ]
    }
   ],
   "source": [
    "from gasp.web import data_from_get\n",
    "\n",
    "URL = '{}/{}/{},{},{}'.format(main_url, api_key, lat, lng, time_d)\n",
    "print URL\n",
    "data = data_from_get(URL, None)"
   ]
  },
  {
   "cell_type": "code",
   "execution_count": 4,
   "metadata": {},
   "outputs": [
    {
     "name": "stdout",
     "output_type": "stream",
     "text": [
      "[u'hourly', u'currently', u'daily', u'flags', u'longitude', u'offset', u'latitude', u'timezone']\n"
     ]
    }
   ],
   "source": [
    "print data.keys()"
   ]
  },
  {
   "cell_type": "code",
   "execution_count": 5,
   "metadata": {},
   "outputs": [
    {
     "name": "stdout",
     "output_type": "stream",
     "text": [
      "{u'ozone': 333.05, u'windGust': 14.94, u'temperature': 55.56, u'icon': u'clear-day', u'dewPoint': 46.98, u'humidity': 0.73, u'cloudCover': 0, u'summary': u'Clear', u'apparentTemperature': 55.56, u'pressure': 1012.02, u'windSpeed': 5, u'visibility': 10, u'time': 1556780400, u'windBearing': 56, u'precipIntensity': 0, u'uvIndex': 0, u'precipProbability': 0}\n"
     ]
    }
   ],
   "source": [
    "print data['currently']"
   ]
  },
  {
   "cell_type": "code",
   "execution_count": 7,
   "metadata": {},
   "outputs": [
    {
     "name": "stdout",
     "output_type": "stream",
     "text": [
      "40.1973318 -8.4103187\n"
     ]
    }
   ],
   "source": [
    "print data['latitude'], data['longitude']"
   ]
  },
  {
   "cell_type": "code",
   "execution_count": 8,
   "metadata": {},
   "outputs": [
    {
     "name": "stdout",
     "output_type": "stream",
     "text": [
      "{u'data': [{u'apparentTemperatureMinTime': 1556773200, u'precipType': u'rain', u'temperatureLow': 51.67, u'precipIntensityMaxTime': 1556787600, u'temperatureMin': 50.73, u'temperatureHigh': 82.42, u'summary': u'Clear throughout the day.', u'dewPoint': 50.2, u'apparentTemperatureMax': 82.42, u'temperatureMax': 82.42, u'windSpeed': 3.81, u'apparentTemperatureHigh': 82.42, u'windGustTime': 1556780400, u'temperatureMaxTime': 1556805600, u'windBearing': 28, u'temperatureLowTime': 1556859600, u'moonPhase': 0.92, u'temperatureMinTime': 1556773200, u'windGust': 14.94, u'apparentTemperatureLow': 51.67, u'sunsetTime': 1556825413, u'pressure': 1011.5, u'uvIndexTime': 1556798400, u'cloudCover': 0, u'apparentTemperatureLowTime': 1556859600, u'apparentTemperatureMin': 50.73, u'apparentTemperatureHighTime': 1556805600, u'precipIntensityMax': 0.0002, u'icon': u'clear-day', u'apparentTemperatureMaxTime': 1556805600, u'humidity': 0.62, u'ozone': 337.9, u'temperatureHighTime': 1556805600, u'visibility': 10, u'time': 1556751600, u'precipIntensity': 0.0001, u'uvIndex': 8, u'sunriseTime': 1556775210, u'precipProbability': 0.01}]}\n"
     ]
    }
   ],
   "source": [
    "print data['daily']"
   ]
  },
  {
   "cell_type": "code",
   "execution_count": null,
   "metadata": {},
   "outputs": [],
   "source": []
  }
 ],
 "metadata": {
  "kernelspec": {
   "display_name": "Python 2",
   "language": "python",
   "name": "python2"
  },
  "language_info": {
   "codemirror_mode": {
    "name": "ipython",
    "version": 2
   },
   "file_extension": ".py",
   "mimetype": "text/x-python",
   "name": "python",
   "nbconvert_exporter": "python",
   "pygments_lexer": "ipython2",
   "version": "2.7.15rc1"
  }
 },
 "nbformat": 4,
 "nbformat_minor": 2
}
