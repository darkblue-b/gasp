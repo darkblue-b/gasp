{
 "cells": [
  {
   "cell_type": "code",
   "execution_count": null,
   "metadata": {},
   "outputs": [],
   "source": [
    "from gasp.web import get_text_in_html, get_text_in_CssClass\n",
    "\n",
    "URL_DN = (\n",
    "    \"https://www.dn.pt/edicao-do-dia/25-out-2018/interior/\"\n",
    "    \"novo-regime-de-reforma-antecipada-vai-coexistir-com-o\"\n",
    "    \"-atual-10081739.html\"\n",
    ")\n",
    "\n",
    "titulo = get_text_in_html(URL_DN, tags=['h1'])\n",
    "texto  = get_text_in_CssClass(URL_DN, \"div\", \"t-af2-c1-body\")"
   ]
  },
  {
   "cell_type": "code",
   "execution_count": null,
   "metadata": {},
   "outputs": [],
   "source": [
    "from gasp.web import get_text_in_html, get_text_in_CssClass\n",
    "\n",
    "URL_SOL = (\n",
    "    \"https://sol.sapo.pt/artigo/638865/ministerio-p-\"\n",
    "    \"blico-abre-inquerito-a-acidente-fatal-com-helicoptero-do-inem\"\n",
    ")\n",
    "\n",
    "titulo = get_text_in_html(URL_SOL, tags=['h1'])\n",
    "texto  = get_text_in_CssClass(URL_SOL, \"div\", \"large-8 column corpo\")"
   ]
  },
  {
   "cell_type": "code",
   "execution_count": null,
   "metadata": {},
   "outputs": [],
   "source": [
    "from gasp.web import get_text_in_html, get_text_in_CssClass\n",
    "\n",
    "URL_JN = (\n",
    "    \"https://www.publico.pt/2018/12/17/local/reportagem/\"\n",
    "    \"melhor-prenda-comecou-realojamento-bairro-jamaica-1855011\"\n",
    ")\n",
    "\n",
    "titulo = get_text_in_html(URL_JN, tags=['h1'])\n",
    "texto  = get_text_in_CssClass(URL_JN, \"div\", \"large-8 column corpo\")"
   ]
  },
  {
   "cell_type": "code",
   "execution_count": 1,
   "metadata": {},
   "outputs": [],
   "source": [
    "from gasp.web import get_text_in_html, get_text_in_CssClass\n",
    "\n",
    "URL_EXP = (\n",
    "    \"https://expresso.pt/internacional/2018-12-17-Brexit.-Press\"\n",
    "    \"ionada-por-Corbyn-May-avanca-que-voto-ao-Brexit-sera-na-semana-de-14-de-janeiro\"\n",
    ")\n",
    "\n",
    "titulo = get_text_in_html(URL_EXP, tags=['h1'])\n",
    "texto  = get_text_in_CssClass(URL_EXP, \"div\", \"articleContent\")"
   ]
  },
  {
   "cell_type": "code",
   "execution_count": 5,
   "metadata": {},
   "outputs": [],
   "source": [
    "from gasp.web import get_text_in_html, get_text_in_CssClass\n",
    "\n",
    "URL_EXP = (\n",
    "    \"https://www.cmjornal.pt/cm-ao-minuto/detalhe/bombeiros-sapadores\"\n",
    "    \"-forcam-entrada-no-ministerio-do-trabalho-em-lisboa?ref=HP_Destaque\"\n",
    ")\n",
    "\n",
    "#titulo = get_text_in_html(URL_EXP, tags=['h1'])\n",
    "#texto  = get_text_in_CssClass(URL_EXP, \"div\", \"textoDetalhe textoDetalheNovasPartilhas\")\n",
    "\n",
    "import urllib2\n",
    "import re\n",
    "from bs4  import BeautifulSoup\n",
    "from gasp import goToList\n",
    "    \n",
    "resp = urllib2.urlopen(URL_EXP)\n",
    "    \n",
    "html_doc = resp.read()\n",
    "    \n",
    "soup = BeautifulSoup(html_doc, 'html.parser')\n",
    "    \n",
    "data = soup.find_all(\"div\", class_=\"textoDetalhe textoDetalheNovasPartilhas\")"
   ]
  },
  {
   "cell_type": "code",
   "execution_count": 2,
   "metadata": {},
   "outputs": [
    {
     "name": "stdout",
     "output_type": "stream",
     "text": [
      "{'h1': [u'Expresso', u' Brexit. Pressionada por Corbyn, May avan\\xe7a que voto ao Brexit ser\\xe1 na semana de 14 de janeiro ']}\n"
     ]
    }
   ],
   "source": [
    "print titulo"
   ]
  },
  {
   "cell_type": "code",
   "execution_count": 3,
   "metadata": {},
   "outputs": [
    {
     "name": "stdout",
     "output_type": "stream",
     "text": [
      "{'p': [u'Do lado da Uni\\xe3o Europeia pouca ou nenhuma abertura se viu para modificar o texto na parte que se refere ao chamado backstop, ou \\u201ctrav\\xe3o\\u201d, uma imposi\\xe7\\xe3o da UE para evitar uma fronteira f\\xedsica entre as duas \\u201cIrlandas\\u201d mas que mant\\xe9m o Reino Unido na Europa por tempo indeterminado (isto \\xe9, at\\xe9 a Europa achar que j\\xe1 \\xe9 seguro impor outra vez uma barreira num territ\\xf3rio que passou d\\xe9cadas envolvido em lutas religiosas e pol\\xedticas).', u'Com ou sem garantias da UE, Theresa May disse esta segunda-feira no Parlamento que os deputados poder\\xe3o votar o acordo na semana que se inicia a 14 de janeiro, como o debate sobre o documento final a ter lugar a partir de dia 7.', u'As contradi\\xe7\\xf5es come\\xe7aram logo que a primeira-ministra saiu de Bruxelas com May a dizer que a UE estava dispon\\xedvel para continuar a discutir e a porta-voz da Comiss\\xe3o Europeia, Margaritis Schinas, a afirmar perante os jornalistas que n\\xe3o est\\xe3o previstos mais encontros com o Reino Unido.', u'O voto ao acordo final entre Bruxelas e Londres estava marcado para dia 11 de dezembro mas tal foi a rebeli\\xe3o nos bastidores dos Partido Conservador que Theresa May, primeira-ministra brit\\xe2nica, decidiu n\\xe3o levar o texto final ao Parlamento. E tamb\\xe9m ainda n\\xe3o disse quando espera lev\\xe1-lo a votos at\\xe9 porque a rebeli\\xe3o acalmou mas n\\xe3o se dissipou.', u'Jeremy Corbyn, l\\xedder do Partido Trabalhista, n\\xe3o pensa em esperar pela pr\\xf3xima jogada de May e dever\\xe1 amea\\xe7ar a primeira-ministra, esta segunda-feira no Parlamento, com uma mo\\xe7\\xe3o de n\\xe3o-confian\\xe7a. Isto n\\xe3o \\xe9 o mesmo que propor uma mo\\xe7\\xe3o de censura ao Governo como um todo, e por isso esta estrat\\xe9gia de Corbyn n\\xe3o desencadeia, automaticamente, os preparativos para uma elei\\xe7\\xe3o geral.', u'\\u201cDe qualquer forma n\\xe3o h\\xe1 uma amea\\xe7a de elei\\xe7\\xf5es gerais no horizonte, por isso a press\\xe3o sobre Corbyn tamb\\xe9m n\\xe3o \\xe9 muita, isto se ele de facto for para a frente com a mo\\xe7\\xe3o. Isto come\\xe7a a parecer-se muito com um jogo de xadrez em que ningu\\xe9m quer fazer uma jogada mais arrojada\\u201d, disse, no Twitter, Kate McCann, correspondente da Sky News no Parlamento.', u'O objetivo de Corbyn parece ser apenas enfraquecer a primeira-ministra, at\\xe9 porque ele nunca disse qual era o seu plano alternativo para o Brexit, nem nunca apoiou a hip\\xf3tese de um segundo referendo, mantendo a pr\\xf3pria primeira-ministra que faz\\xea-lo seria desrespeitar o primeiro voto dos brit\\xe2nicos.']}\n"
     ]
    }
   ],
   "source": [
    "print texto"
   ]
  },
  {
   "cell_type": "code",
   "execution_count": 25,
   "metadata": {},
   "outputs": [],
   "source": [
    "a = \"\\n\".join([i.text for i in data])\n",
    "b = [x for x in a.split('\\n') if len(x) > 50]"
   ]
  },
  {
   "cell_type": "code",
   "execution_count": 26,
   "metadata": {},
   "outputs": [
    {
     "name": "stdout",
     "output_type": "stream",
     "text": [
      "[u'Os Bombeiros Sapadores est\\xe3o neste momento junto ao Minist\\xe9rio do Trabalho em protesto. Foi cortada uma estrada junto ao Minist\\xe9rio, que fica na Pra\\xe7a de Londres, em Lisboa, usando uma mangueira dos bombeiros.\\xa0', u'V\\xeddeo mostra protesto dos Bombeiros Sapadores em Lisboa', u'Os profissionais, cerca de 150, tentaram for\\xe7ar a entrada no minist\\xe9rio e as autoridades criaram uma barreira para impedir a passagem num ambiente de clara tens\\xe3o.\\xa0Ao que o Correio da Manh\\xe3 conseguiu apurar uma delega\\xe7\\xe3o dos Sapadores de Lisboa conseguiu entrar no Minist\\xe9rio do Trabalho para ser recebida ou pelo\\xa0Ministro do Trabalho, Vieira da Silva, ou por um representante deste.Os manifestantes protestam contra\\xa0as propostas do Governo relativas \\xe0 revis\\xe3o do estatuto da carreira. Foi convocada uma greve dos bombeiros sapadores entre os dias 22 de janeiro e 5 de fevereiro, mas um representante garantiu que n\\xe3o ser\\xe1 colocado em causa o socorro \\xe0 popula\\xe7\\xe3o.Os bombeiros repudiam os projetos de lei do Governo que procuram \"destruir a carreira do bombeiro profissional e degradar as suas condi\\xe7\\xf5es de aposenta\\xe7\\xe3o\", de acordo com a Lusa.\"N\\xe3o aceitamos estas propostas das aposenta\\xe7\\xf5es\"Na reuni\\xe3o entre a delega\\xe7\\xe3o dos Sapadores de Lisboa e o Minist\\xe9rio do Trabalho n\\xe3o houve qualquer conclus\\xe3o. \"O que foi dicutido foi darmos a conhecer as nossas preocupa\\xe7\\xf5es. Eles manifestaram que desconnheciam a proposta final e diseram que iam propor outras condi\\xe7\\xf5es de aposenta\\xe7\\xe3o. Vamos aguardar que isto seja uma realidade e ficaram de nos dizer algo brevemente\", come\\xe7ou por dizer um dos elementos da delega\\xe7\\xe3o, em Lisboa.\"N\\xe3o h\\xe1 proposta concreta. A vis\\xe3o deles n\\xe3o \\xe9 a mesma que a nossa. Temos esperan\\xe7a de que seja um desentendimento entre gabinetes. Neste momento temos esperan\\xe7a de que tenham no\\xe7\\xe3o das propostas, porque est\\xe3o a p\\xf4r em risco os bombeiros\", confessou.\"Apenas disseram que n\\xe3o pretedniam agravar o atual estatuto de aposenta\\xe7\\xe3o dos bombeiros. N\\xe3o sei se \\xe9 desentendimento ou se est\\xe3o a empurrar o problema com a barriga. Vai haver uma greve no dia 22 se o Governo n\\xe3o atuar, assim como dia 17, em que teremos outra a\\xe7\\xe3o. N\\xe3o aceitamos estas propostas das aposenta\\xe7\\xf5es nem de carreira\", concluiu.', u'Protesto dos bombeiros em #Lisboa, em frente ao Minist\\xe9rio do Trabalho pic.twitter.com/iFi2PDJlBx\\r', u'RelacionadasPortugalFotogaleriaBombeiro salva prenda de menino desalojado em LisboaPortugalFotogaleriaGreve dos bombeiros com ades\\xe3o de 100% em algumas corpora\\xe7\\xf5esCm ao MinutoFotogaleriaLiga dos Bombeiros suspende protesto at\\xe9 29 de dezembroSociedadeFotogaleriaProtesto de bombeiros profissionais antecede greve que vai durar at\\xe9 2 de janeiro', u'VideoV\\xeddeo mostra protesto dos Bombeiros Sapadores em Lisboa', u'Os manifestantes protestam contra as propostas do Governo relativas \\xe0 revis\\xe3o do estatuto da carreira.']\n"
     ]
    }
   ],
   "source": [
    "print b"
   ]
  },
  {
   "cell_type": "code",
   "execution_count": 21,
   "metadata": {},
   "outputs": [
    {
     "ename": "IndexError",
     "evalue": "list index out of range",
     "output_type": "error",
     "traceback": [
      "\u001b[1;31m---------------------------------------------------------------------------\u001b[0m",
      "\u001b[1;31mIndexError\u001b[0m                                Traceback (most recent call last)",
      "\u001b[1;32m<ipython-input-21-bf93af982659>\u001b[0m in \u001b[0;36m<module>\u001b[1;34m()\u001b[0m\n\u001b[1;32m----> 1\u001b[1;33m \u001b[1;32mprint\u001b[0m \u001b[0mdata\u001b[0m\u001b[1;33m[\u001b[0m\u001b[1;36m1\u001b[0m\u001b[1;33m]\u001b[0m\u001b[1;33m.\u001b[0m\u001b[0mtext\u001b[0m\u001b[1;33m\u001b[0m\u001b[0m\n\u001b[0m",
      "\u001b[1;31mIndexError\u001b[0m: list index out of range"
     ]
    }
   ],
   "source": [
    "from gasp.web import get_text_in_html, get_text_in_CssClass\n",
    "\n",
    "URL_EXP = (\n",
    "    \"https://24.sapo.pt/atualidade/artigos/garantias-da-ue-\"\n",
    "    \"para-o-brexit-podem-ser-insuficientes-para-convencer-deputados-admite-may\"\n",
    ")\n",
    "\n",
    "titulo = get_text_in_html(URL_EXP, tags=['h1'])\n",
    "texto  = get_text_in_CssClass(URL_EXP, \"div\", \"articleContent\")"
   ]
  },
  {
   "cell_type": "code",
   "execution_count": null,
   "metadata": {},
   "outputs": [],
   "source": []
  }
 ],
 "metadata": {
  "kernelspec": {
   "display_name": "Python 2",
   "language": "python",
   "name": "python2"
  },
  "language_info": {
   "codemirror_mode": {
    "name": "ipython",
    "version": 2
   },
   "file_extension": ".py",
   "mimetype": "text/x-python",
   "name": "python",
   "nbconvert_exporter": "python",
   "pygments_lexer": "ipython2",
   "version": "2.7.14"
  }
 },
 "nbformat": 4,
 "nbformat_minor": 2
}
