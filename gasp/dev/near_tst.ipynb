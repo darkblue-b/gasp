{
 "cells": [
  {
   "cell_type": "code",
   "execution_count": null,
   "metadata": {},
   "outputs": [],
   "source": [
    "# Test near on Postgis\n",
    "\n",
    "inFeat   = r'D:\\indev\\OSM2LULC\\OSM2LULC_WEB_Via\\near_test\\all_roads.shp'\n",
    "nearFeat = r'D:\\indev\\OSM2LULC\\OSM2LULC_WEB_Via\\near_test\\road_builds.shp'\n",
    "conParam = {\n",
    "    'HOST' : 'localhost', 'USER' : 'postgres',\n",
    "    'PASSWORD' : 'admin', 'PORT' : '5432', 'TEMPLATE' : 'postgis_template',\n",
    "    'DATABASE' : 'lisboa'\n",
    "}"
   ]
  },
  {
   "cell_type": "code",
   "execution_count": null,
   "metadata": {},
   "outputs": [],
   "source": [
    "import datetime\n",
    "from gasp.cpu.psql.anls.prox import st_near\n",
    "\n",
    "time_a = datetime.datetime.now().replace(microsecond=0)\n",
    "\n",
    "st_near(\n",
    "    conParam,\n",
    "    'all_roads',\n",
    "    'gid', 'geometry',\n",
    "    'all_builds',\n",
    "    'geometry', 'teste_near_idx', untilDist=12)\n",
    "\n",
    "time_b = datetime.datetime.now().replace(microsecond=0)\n",
    "print time_b - time_a"
   ]
  },
  {
   "cell_type": "code",
   "execution_count": null,
   "metadata": {},
   "outputs": [],
   "source": [
    "import datetime\n",
    "from gasp.cpu.psql.anls.prox import st_near2\n",
    "\n",
    "time_a = datetime.datetime.now().replace(microsecond=0)\n",
    "\n",
    "st_near(conParam, 'all_roads', 'gid', 'geom', 'road_builds', 'geom', 12, 'teste_near1')\n",
    "\n",
    "time_b = datetime.datetime.now().replace(microsecond=0)\n",
    "print time_b - time_a"
   ]
  },
  {
   "cell_type": "code",
   "execution_count": null,
   "metadata": {},
   "outputs": [],
   "source": [
    "# Import data from PostGIS to GRASS GIS\n",
    "\n",
    "from gasp.cpu.grs        import run_grass\n",
    "\n",
    "grass_base = run_grass(\n",
    "    r'D:\\indev\\OSM2LULC\\OSM2LULC_WEB_Via\\near_test', grassBIN='grass74', location='grloc',\n",
    "    srs=3857\n",
    ")\n",
    "\n",
    "import grass.script as grass\n",
    "import grass.script.setup as gsetup\n",
    "gsetup.init(grass_base, r'D:\\indev\\OSM2LULC\\OSM2LULC_WEB_Via\\near_test', 'grloc', 'PERMANENT')"
   ]
  },
  {
   "cell_type": "code",
   "execution_count": null,
   "metadata": {},
   "outputs": [],
   "source": [
    "def shp_to_grs(inLyr, outLyr, filterByReg=None, asCMD=None):\n",
    "    \"\"\"\n",
    "    Add Shape to GRASS GIS\n",
    "    \"\"\"\n",
    "    \n",
    "    if not asCMD:\n",
    "        from grass.pygrass.modules import Module\n",
    "        \n",
    "        f = 'o' if not filterByReg else 'ro'\n",
    "        \n",
    "        m = Module(\n",
    "            \"v.in.ogr\", input=inLyr, output=outLyr, flags='o',\n",
    "            overwrite=True, run_=False, quiet=True\n",
    "        )\n",
    "        \n",
    "        m()\n",
    "    \n",
    "    else:\n",
    "        from gasp import exec_cmd\n",
    "        \n",
    "        rcmd = exec_cmd((\n",
    "            \"v.in.ogr input={} output={} -o{} --overwrite --quiet\"\n",
    "        ).format(inLyr, outLyr, \" -r\" if filterByReg else \"\"))\n",
    "    \n",
    "    return outLyr"
   ]
  },
  {
   "cell_type": "code",
   "execution_count": null,
   "metadata": {},
   "outputs": [],
   "source": [
    "from gasp import exec_cmd\n",
    "        \n",
    "rcmd = exec_cmd((\n",
    "    \"v.in.ogr input=\\\"PG:host=localhost dbname=near_tst \"\n",
    "    \"user=postgres password=admin port=5432\\\" \"\n",
    "    \"output=teste layer=all_roads -o --overwrite --quiet\"\n",
    "))"
   ]
  },
  {
   "cell_type": "code",
   "execution_count": null,
   "metadata": {},
   "outputs": [],
   "source": []
  }
 ],
 "metadata": {
  "kernelspec": {
   "display_name": "Python 2",
   "language": "python",
   "name": "python2"
  },
  "language_info": {
   "codemirror_mode": {
    "name": "ipython",
    "version": 2
   },
   "file_extension": ".py",
   "mimetype": "text/x-python",
   "name": "python",
   "nbconvert_exporter": "python",
   "pygments_lexer": "ipython2",
   "version": "2.7.14"
  }
 },
 "nbformat": 4,
 "nbformat_minor": 2
}
