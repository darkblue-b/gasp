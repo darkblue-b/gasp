{
 "cells": [
  {
   "cell_type": "code",
   "execution_count": null,
   "metadata": {},
   "outputs": [],
   "source": [
    "CON_PGSQL = {\n",
    "    \"HOST\" : \"localhost\", \"PORT\" : \"5432\", \"DATABASE\" : \"dsn_collect\",\n",
    "    \"USER\" : \"postgres\", \"PASSWORD\" : \"admin\", \"TEMPLATE\" : \"postgis_template\"\n",
    "}\n",
    "\n",
    "JOURNAL_TBL = {\n",
    "    \"TNAME\"     : \"jornais_web\",\n",
    "    \"PK\"        : \"fid\",\n",
    "    \"URL\"       : \"main_url\",\n",
    "    \"TAG_TITLE\" : \"html_title\",\n",
    "    \"TAG_CORPUS\": \"html_corpus\",\n",
    "    \"CSS_CLASS\" : \"css_class\"\n",
    "}\n",
    "\n",
    "NEWS_TBL = {\n",
    "    \"TNAME\" : \"noticias\",\n",
    "    \"PK\" : \"fid\",\n",
    "    \"URL\" : \"url\",\n",
    "    \"TITLE\" : \"titulo\",\n",
    "    \"WORD_GROUP\" : \"word_grp\",\n",
    "    \"FK_JOURNAL\" : \"jornal_fid\"\n",
    "}\n",
    "\n",
    "NEWS_PART = {\n",
    "    \"TNAME\" : \"noticias_parts\",\n",
    "    \"NEWS\"  : \"news_fid\",\n",
    "    \"PART\"  : \"news_part\",\n",
    "    \"TEXT\"  : \"text\"\n",
    "}\n",
    "\n",
    "SEARCH_WORDS = {\n",
    "    \"TNAME\" : \"search_words\",\n",
    "    \"WORD\"  : \"word\",\n",
    "    \"GROUP\" : \"group_id\"\n",
    "}"
   ]
  },
  {
   "cell_type": "code",
   "execution_count": null,
   "metadata": {},
   "outputs": [],
   "source": [
    "import pandas\n",
    "from gasp.fm.psql          import query_to_df\n",
    "from gasp.web import get_text_in_html, get_text_in_CssClass\n",
    "from gasp.cpu.pnd.mng import merge_df\n",
    "from gasp.cpu.psql.mng.qw import exec_write_q"
   ]
  },
  {
   "cell_type": "code",
   "execution_count": null,
   "metadata": {},
   "outputs": [],
   "source": [
    "\"\"\"\n",
    "Add news text to the database\n",
    "\"\"\"\n",
    "\n",
    "NEWS_TO_GET = query_to_df(CON_PGSQL, (\n",
    "    \"SELECT main.{}, main.{}, \"\n",
    "    \"j.{}, j.{}, j.{} \"\n",
    "    \"FROM {} AS main INNER JOIN {} AS j \"\n",
    "    \"ON main.{} = j.{} \"\n",
    "    \"WHERE {} IS NULL AND jornal_fid = 1\"\n",
    ").format(\n",
    "    NEWS_TBL[\"PK\"]   , NEWS_TBL[\"URL\"],\n",
    "    JOURNAL_TBL[\"TAG_TITLE\"], JOURNAL_TBL[\"TAG_CORPUS\"],\n",
    "    JOURNAL_TBL[\"CSS_CLASS\"],\n",
    "    NEWS_TBL[\"TNAME\"], JOURNAL_TBL[\"TNAME\"],\n",
    "    NEWS_TBL[\"FK_JOURNAL\"], JOURNAL_TBL[\"PK\"],\n",
    "    NEWS_TBL[\"TITLE\"]\n",
    "))"
   ]
  },
  {
   "cell_type": "code",
   "execution_count": null,
   "metadata": {},
   "outputs": [],
   "source": [
    "print NEWS_TO_GET"
   ]
  },
  {
   "cell_type": "code",
   "execution_count": null,
   "metadata": {},
   "outputs": [],
   "source": [
    "NEWS_DF = []\n",
    "TITLES  = {}"
   ]
  },
  {
   "cell_type": "code",
   "execution_count": null,
   "metadata": {},
   "outputs": [],
   "source": [
    "def _news_text(row):\n",
    "    fid        = row[NEWS_TBL[\"PK\"]]\n",
    "    url        = row[NEWS_TBL[\"URL\"]]\n",
    "    tag_title  = row[JOURNAL_TBL[\"TAG_TITLE\"]]\n",
    "    tag_corpus = row[JOURNAL_TBL[\"TAG_CORPUS\"]]\n",
    "    tag_css    = row[JOURNAL_TBL[\"CSS_CLASS\"]]\n",
    "    \n",
    "    title = get_text_in_html(url, tags=[tag_title])\n",
    "    if not title[tag_title]:\n",
    "        TITLES[int(fid)] = \"NO_TITLE\"\n",
    "        return\n",
    "    \n",
    "    txtData = [get_text_in_CssClass(\n",
    "        url, tag_corpus, csst\n",
    "    ) for csst in tag_css]\n",
    "    \n",
    "    __txtData = []\n",
    "\n",
    "    for t in txtData:\n",
    "        if not t:\n",
    "            continue\n",
    "    \n",
    "        __txtData += t['p']\n",
    "    \n",
    "    if not __txtData:\n",
    "        TITLES[int(fid)] = \"NO_TEXT\"\n",
    "        return\n",
    "    \n",
    "    new_text = pandas.DataFrame(__txtData, columns=[NEWS_PART[\"TEXT\"]])\n",
    "    new_text[NEWS_PART[\"NEWS\"]] = fid\n",
    "    new_text[NEWS_PART[\"PART\"]] = new_text.index + 1\n",
    "    \n",
    "    TITLES[int(fid)] = title[tag_title][0]\n",
    "    NEWS_DF.append(new_text)"
   ]
  },
  {
   "cell_type": "code",
   "execution_count": null,
   "metadata": {},
   "outputs": [],
   "source": [
    "NEWS_TO_GET.apply(lambda x: _news_text(x), axis=1)"
   ]
  },
  {
   "cell_type": "code",
   "execution_count": null,
   "metadata": {},
   "outputs": [],
   "source": [
    "APP_NEWS_TABLE = merge_df(NEWS_DF)"
   ]
  },
  {
   "cell_type": "code",
   "execution_count": null,
   "metadata": {},
   "outputs": [],
   "source": [
    "APP_NEWS_TABLE[NEWS_PART[\"PART\"]] = APP_NEWS_TABLE[NEWS_PART[\"PART\"]].astype(int)"
   ]
  },
  {
   "cell_type": "code",
   "execution_count": null,
   "metadata": {},
   "outputs": [],
   "source": [
    "# Update Titles\n",
    "\n",
    "UPDATE_QUERY = unicode((\n",
    "    \"UPDATE {tbl} SET {titleCol} = '{titleText}' \"\n",
    "    \"WHERE {idCol} = {idNew}\"\n",
    "), 'utf-8')\n",
    "\n",
    "UPDATE_QUERIES = [UPDATE_QUERY.format(\n",
    "    tbl=unicode(NEWS_TBL[\"TNAME\"], 'utf-8'),\n",
    "    titleCol=unicode(NEWS_TBL[\"TITLE\"], 'utf-8'),\n",
    "    titleText=TITLES[T].replace(\"'\", \"\"),\n",
    "    idCol=unicode(NEWS_TBL[\"PK\"], 'utf-8'),\n",
    "    idNew=unicode(str(T), 'utf-8')\n",
    ") for T in TITLES]\n",
    "\n",
    "exec_write_q(CON_PGSQL, UPDATE_QUERIES)"
   ]
  },
  {
   "cell_type": "code",
   "execution_count": null,
   "metadata": {},
   "outputs": [],
   "source": [
    "# Add news text to database\n",
    "\n",
    "from gasp.to.psql import df_to_pgsql\n",
    "\n",
    "df_to_pgsql(CON_PGSQL, APP_NEWS_TABLE, NEWS_PART[\"TNAME\"], append=True)"
   ]
  },
  {
   "cell_type": "code",
   "execution_count": null,
   "metadata": {},
   "outputs": [],
   "source": []
  }
 ],
 "metadata": {
  "kernelspec": {
   "display_name": "Python 2",
   "language": "python",
   "name": "python2"
  },
  "language_info": {
   "codemirror_mode": {
    "name": "ipython",
    "version": 2
   },
   "file_extension": ".py",
   "mimetype": "text/x-python",
   "name": "python",
   "nbconvert_exporter": "python",
   "pygments_lexer": "ipython2",
   "version": "2.7.14"
  }
 },
 "nbformat": 4,
 "nbformat_minor": 2
}
