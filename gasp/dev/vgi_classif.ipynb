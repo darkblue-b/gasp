{
 "cells": [
  {
   "cell_type": "code",
   "execution_count": null,
   "metadata": {},
   "outputs": [],
   "source": [
    "# Collect data from facebook\n",
    "\n",
    "from gasp.pnd.facebook import places_to_shp\n",
    "\n",
    "searchArea = r'D:\\gis\\VGI_CLASSFI\\CLS_BUILD\\lmt\\search_radius.shp'\n",
    "epsg = 3763\n",
    "outepsg = 3763\n",
    "outShp = r'D:\\gis\\VGI_CLASSFI\\CLS_BUILD\\facedata2.shp'\n",
    "\n",
    "places_to_shp(searchArea, epsg, outepsg, outShp, onlySearchArea=None)"
   ]
  },
  {
   "cell_type": "code",
   "execution_count": null,
   "metadata": {},
   "outputs": [],
   "source": [
    "from gasp.dsn import dsn_data_collection_by_multibuffer\n",
    "\n",
    "BFS = {\n",
    "    \"lisbon\" : {\n",
    "        \"path\" : r'D:\\gis\\VGI_CLASSFI\\CLS_BUILD\\lmt\\search_radius.shp',\n",
    "        \"epsg\" : 3763\n",
    "    }\n",
    "}\n",
    "CON_PARAM = {'HOST' : 'localhost', 'PORT' : '5432', 'USER' : 'postgres', 'PASSWORD' : 'admin', 'DB' : 'face_extraction',\n",
    "            'TEMPLATE' : 'postgis_template'}\n",
    "\n",
    "dsn_data_collection_by_multibuffer(\n",
    "    BFS, r'D:\\gis\\VGI_CLASSFI\\CLS_BUILD', CON_PARAM, 'facebook'\n",
    ")"
   ]
  },
  {
   "cell_type": "code",
   "execution_count": null,
   "metadata": {},
   "outputs": [],
   "source": [
    "from gasp.web import data_from_get\n",
    "\n",
    "\n",
    "\n",
    "URL = 'https://api.foursquare.com/v2/venues/search'\n",
    "data = data_from_get(URL, dict(\n",
    "    client_id=CLIENT_ID, client_secret=CLIENT_SECRET,\n",
    "    v='20180323',\n",
    "    ll='40.7243,-74.0018',\n",
    "    intent='browse',\n",
    "    radius='250',\n",
    "    limit=50\n",
    "))"
   ]
  },
  {
   "cell_type": "code",
   "execution_count": null,
   "metadata": {},
   "outputs": [],
   "source": [
    "import pandas\n",
    "from gasp.pnd.mng.fld import listval_to_newcols\n",
    "\n",
    "dataDf = pandas.DataFrame(data['response']['venues'])\n",
    "\n",
    "dataDf.drop([\n",
    "    'contact', 'hasPerk', 'referralId', 'venuePage', 'verified',\n",
    "    'venueChains', 'id'\n",
    "], axis=1, inplace=True)\n",
    "\n",
    "dataDf.rename(columns={'name' : 'name_main'}, inplace=True)\n",
    "\n",
    "dataDf = listval_to_newcols(dataDf, 'location')\n",
    "\n",
    "dataDf.drop([\n",
    "    \"labeledLatLngs\", \"neighborhood\", \"state\", \"distance\",\n",
    "    \"crossStreet\", 'country', 'city', 'cc', 'address' \n",
    "], axis=1, inplace=True)\n",
    "\n",
    "dataDf[\"formattedAddress\"] = dataDf[\"formattedAddress\"].astype(str)\n",
    "\n",
    "dataDf = listval_to_newcols(dataDf, 'stats')\n",
    "dataDf = listval_to_newcols(dataDf, 'categories')\n",
    "dataDf = listval_to_newcols(dataDf, 0)\n",
    "\n",
    "dataDf.drop([\n",
    "    \"primary\", \"id\", \"icon\"\n",
    "], axis=1, inplace=True)\n",
    "\n",
    "dataDf = listval_to_newcols(dataDf, 'beenHere')\n",
    "\n",
    "dataDf.drop([\n",
    "    \"marked\", \"unconfirmedCount\", \"lastCheckinExpiredAt\"\n",
    "], axis=1, inplace=True)"
   ]
  },
  {
   "cell_type": "code",
   "execution_count": null,
   "metadata": {},
   "outputs": [],
   "source": [
    "print dataDf"
   ]
  },
  {
   "cell_type": "code",
   "execution_count": 1,
   "metadata": {},
   "outputs": [],
   "source": [
    "from gasp.fmapi.twitter import search_places\n",
    "from gasp.gdl.anls.prox.bfs import getBufferParam\n",
    "\n",
    "searchArea = r'D:\\gis\\VGI_CLASSFI\\CLS_BUILD\\lmt\\search_radius.shp'\n",
    "\n",
    "EPSG = 3763\n",
    "\n",
    "x, y, r = getBufferParam(searchArea, EPSG, outSRS=4326)\n",
    "\n",
    "d = search_places(y, x, r)"
   ]
  },
  {
   "cell_type": "code",
   "execution_count": 8,
   "metadata": {},
   "outputs": [
    {
     "name": "stdout",
     "output_type": "stream",
     "text": [
      "[Place(_api=<tweepy.api.API object at 0x0486CE70>, full_name=u'Lisboa, Portugal', url=u'https://api.twitter.com/1.1/geo/id/c1430b24da8e9229.json', country=u'Portugal', place_type=u'city', bounding_box=BoundingBox(_api=<tweepy.api.API object at 0x0486CE70>, type=u'Polygon', coordinates=[[[-9.2298264, 38.6913748], [-9.2298264, 38.7958529], [-9.0901639, 38.7958529], [-9.0901639, 38.6913748], [-9.2298264, 38.6913748]]]), contained_within=[Place(_api=<tweepy.api.API object at 0x0486CE70>, full_name=u'Lisboa', url=u'https://api.twitter.com/1.1/geo/id/0d031fe0d444fbdc.json', country=u'Portugal', place_type=u'admin', bounding_box=BoundingBox(_api=<tweepy.api.API object at 0x0486CE70>, type=u'Polygon', coordinates=[[[-9.5004901, 38.673112], [-9.5004901, 39.3177327], [-8.781863, 39.3177327], [-8.781863, 38.673112], [-9.5004901, 38.673112]]]), centroid=[-9.143961102796101, 38.99542235], country_code=u'PT', attributes={}, id=u'0d031fe0d444fbdc', name=u'Lisboa')], centroid=[-9.151825588033468, 38.74361385], country_code=u'PT', attributes={}, id=u'c1430b24da8e9229', name=u'Lisboa'), Place(_api=<tweepy.api.API object at 0x0486CE70>, full_name=u'Portugal', url=u'https://api.twitter.com/1.1/geo/id/8198e85105936d3c.json', country=u'Portugal', place_type=u'country', bounding_box=BoundingBox(_api=<tweepy.api.API object at 0x0486CE70>, type=u'Polygon', coordinates=[[[-31.2688154, 30.0302839], [-31.2688154, 42.1542048], [-6.1902091, 42.1542048], [-6.1902091, 30.0302839], [-31.2688154, 30.0302839]]]), contained_within=[], centroid=[-8.276544456879655, 39.558635], country_code=u'PT', attributes={}, id=u'8198e85105936d3c', name=u'Portugal')]\n"
     ]
    },
    {
     "ename": "TypeError",
     "evalue": "'Place' object has no attribute '__getitem__'",
     "output_type": "error",
     "traceback": [
      "\u001b[1;31m---------------------------------------------------------------------------\u001b[0m",
      "\u001b[1;31mTypeError\u001b[0m                                 Traceback (most recent call last)",
      "\u001b[1;32m<ipython-input-8-55a6dddb91f4>\u001b[0m in \u001b[0;36m<module>\u001b[1;34m()\u001b[0m\n\u001b[0;32m      1\u001b[0m \u001b[1;32mprint\u001b[0m \u001b[0md\u001b[0m\u001b[1;33m\u001b[0m\u001b[0m\n\u001b[1;32m----> 2\u001b[1;33m \u001b[1;32mprint\u001b[0m \u001b[0md\u001b[0m\u001b[1;33m[\u001b[0m\u001b[1;36m0\u001b[0m\u001b[1;33m]\u001b[0m\u001b[1;33m[\u001b[0m\u001b[1;34m'_json'\u001b[0m\u001b[1;33m]\u001b[0m\u001b[1;33m\u001b[0m\u001b[0m\n\u001b[0m",
      "\u001b[1;31mTypeError\u001b[0m: 'Place' object has no attribute '__getitem__'"
     ]
    }
   ],
   "source": [
    "print d\n",
    "print d[0]['_json']"
   ]
  },
  {
   "cell_type": "code",
   "execution_count": null,
   "metadata": {},
   "outputs": [],
   "source": []
  }
 ],
 "metadata": {
  "kernelspec": {
   "display_name": "Python 2",
   "language": "python",
   "name": "python2"
  },
  "language_info": {
   "codemirror_mode": {
    "name": "ipython",
    "version": 2
   },
   "file_extension": ".py",
   "mimetype": "text/x-python",
   "name": "python",
   "nbconvert_exporter": "python",
   "pygments_lexer": "ipython2",
   "version": "2.7.12"
  }
 },
 "nbformat": 4,
 "nbformat_minor": 2
}
