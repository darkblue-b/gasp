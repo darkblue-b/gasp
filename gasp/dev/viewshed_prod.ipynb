{
 "cells": [
  {
   "cell_type": "code",
   "execution_count": 1,
   "metadata": {},
   "outputs": [
    {
     "ename": "KeyboardInterrupt",
     "evalue": "",
     "output_type": "error",
     "traceback": [
      "\u001b[1;31m---------------------------------------------------------------------------\u001b[0m",
      "\u001b[1;31mKeyboardInterrupt\u001b[0m                         Traceback (most recent call last)",
      "\u001b[1;32m<ipython-input-1-e4df15691c7f>\u001b[0m in \u001b[0;36m<module>\u001b[1;34m()\u001b[0m\n\u001b[0;32m     14\u001b[0m     \u001b[0mID_CELLS\u001b[0m\u001b[1;33m,\u001b[0m \u001b[0mOUT_FOLDER\u001b[0m\u001b[1;33m,\u001b[0m \u001b[0mSNAP_RASTER\u001b[0m\u001b[1;33m,\u001b[0m\u001b[1;33m\u001b[0m\u001b[0m\n\u001b[0;32m     15\u001b[0m     \u001b[0mEPSG\u001b[0m\u001b[1;33m,\u001b[0m \u001b[0mTOLERANCE\u001b[0m\u001b[1;33m,\u001b[0m\u001b[1;33m\u001b[0m\u001b[0m\n\u001b[1;32m---> 16\u001b[1;33m     \u001b[0mPRODUCE_DEM\u001b[0m\u001b[1;33m=\u001b[0m\u001b[0mNone\u001b[0m\u001b[1;33m,\u001b[0m \u001b[0mPRODUCE_FROM_INDEX\u001b[0m\u001b[1;33m=\u001b[0m\u001b[0mNone\u001b[0m\u001b[1;33m\u001b[0m\u001b[0m\n\u001b[0m\u001b[0;32m     17\u001b[0m )\n",
      "\u001b[1;32mD:\\xpto\\gasp\\gasp\\cpu\\arcg\\spanlst\\view.py\u001b[0m in \u001b[0;36mgenerate_obs_points_for_large_viewshed\u001b[1;34m(INTEREST_RASTER, DEM, REF_CELLS, ID_CELLS, OUT_FOLDER, SNAP_RASTER, SRS_EPSG, OBS_PNT_TOLERANCE, PRODUCE_DEM, PRODUCE_FROM_INDEX)\u001b[0m\n\u001b[0;32m    228\u001b[0m                 \u001b[0minrst\u001b[0m\u001b[1;33m,\u001b[0m \u001b[0mval\u001b[0m\u001b[1;33m[\u001b[0m\u001b[1;34m\"CELLS_FLD\"\u001b[0m\u001b[1;33m]\u001b[0m\u001b[1;33m,\u001b[0m\u001b[1;33m\u001b[0m\u001b[0m\n\u001b[0;32m    229\u001b[0m                 \u001b[0mval\u001b[0m\u001b[1;33m[\u001b[0m\u001b[1;34m\"RST_FLD\"\u001b[0m\u001b[1;33m]\u001b[0m \u001b[1;32mif\u001b[0m \u001b[0mkey\u001b[0m \u001b[1;33m==\u001b[0m \u001b[1;34m\"DEM\"\u001b[0m \u001b[1;32melse\u001b[0m \u001b[0mval\u001b[0m\u001b[1;33m[\u001b[0m\u001b[1;34m\"RST_TMP\"\u001b[0m\u001b[1;33m]\u001b[0m\u001b[1;33m,\u001b[0m\u001b[1;33m\u001b[0m\u001b[0m\n\u001b[1;32m--> 230\u001b[1;33m                 \u001b[0msnap\u001b[0m\u001b[1;33m=\u001b[0m\u001b[0mSNAP_RASTER\u001b[0m\u001b[1;33m,\u001b[0m \u001b[0mclipGeometry\u001b[0m\u001b[1;33m=\u001b[0m\u001b[0mTrue\u001b[0m\u001b[1;33m\u001b[0m\u001b[0m\n\u001b[0m\u001b[0;32m    231\u001b[0m             )\n\u001b[0;32m    232\u001b[0m \u001b[1;33m\u001b[0m\u001b[0m\n",
      "\u001b[1;32mD:\\xpto\\gasp\\gasp\\cpu\\arcg\\mng\\rst\\proc.py\u001b[0m in \u001b[0;36mclip_raster_each_feat_class\u001b[1;34m(raster, clipFolder, outputFolder, template, snap, clipGeometry, clipFormat, outputFormat)\u001b[0m\n\u001b[0;32m    195\u001b[0m             ), \n\u001b[0;32m    196\u001b[0m             \u001b[0mclipGeom\u001b[0m\u001b[1;33m=\u001b[0m\u001b[0mclipGeometry\u001b[0m\u001b[1;33m,\u001b[0m\u001b[1;33m\u001b[0m\u001b[0m\n\u001b[1;32m--> 197\u001b[1;33m             \u001b[0mtemplate\u001b[0m\u001b[1;33m=\u001b[0m\u001b[0mtemplate\u001b[0m\u001b[1;33m,\u001b[0m \u001b[0msnap\u001b[0m\u001b[1;33m=\u001b[0m\u001b[0msnap\u001b[0m\u001b[1;33m\u001b[0m\u001b[0m\n\u001b[0m\u001b[0;32m    198\u001b[0m         )\n\u001b[0;32m    199\u001b[0m \u001b[1;33m\u001b[0m\u001b[0m\n",
      "\u001b[1;32mD:\\xpto\\gasp\\gasp\\cpu\\arcg\\mng\\rst\\proc.py\u001b[0m in \u001b[0;36mclip_raster\u001b[1;34m(rst, feat_clip, out, template, snap, clipGeom)\u001b[0m\n\u001b[0;32m     29\u001b[0m \u001b[1;33m\u001b[0m\u001b[0m\n\u001b[0;32m     30\u001b[0m     \u001b[1;32mif\u001b[0m \u001b[0msnap\u001b[0m\u001b[1;33m:\u001b[0m\u001b[1;33m\u001b[0m\u001b[0m\n\u001b[1;32m---> 31\u001b[1;33m         \u001b[0marcpy\u001b[0m\u001b[1;33m.\u001b[0m\u001b[0menv\u001b[0m\u001b[1;33m.\u001b[0m\u001b[0msnapRaster\u001b[0m \u001b[1;33m=\u001b[0m \u001b[0mtempSnap\u001b[0m\u001b[1;33m\u001b[0m\u001b[0m\n\u001b[0m\u001b[0;32m     32\u001b[0m \u001b[1;33m\u001b[0m\u001b[0m\n\u001b[0;32m     33\u001b[0m     \u001b[1;32mreturn\u001b[0m \u001b[0mout\u001b[0m\u001b[1;33m\u001b[0m\u001b[0m\n",
      "\u001b[1;32mC:\\Program Files (x86)\\ArcGIS\\Desktop10.6\\ArcPy\\arcpy\\geoprocessing\\_base.py\u001b[0m in \u001b[0;36mset_\u001b[1;34m(self, val)\u001b[0m\n\u001b[0;32m    539\u001b[0m             \u001b[1;32mif\u001b[0m \u001b[0mhasattr\u001b[0m\u001b[1;33m(\u001b[0m\u001b[0mval\u001b[0m\u001b[1;33m,\u001b[0m \u001b[1;34m'_arc_object'\u001b[0m\u001b[1;33m)\u001b[0m\u001b[1;33m:\u001b[0m\u001b[1;33m\u001b[0m\u001b[0m\n\u001b[0;32m    540\u001b[0m                 \u001b[0mval\u001b[0m \u001b[1;33m=\u001b[0m \u001b[0mval\u001b[0m\u001b[1;33m.\u001b[0m\u001b[0m_arc_object\u001b[0m\u001b[1;33m\u001b[0m\u001b[0m\n\u001b[1;32m--> 541\u001b[1;33m             \u001b[0mself\u001b[0m\u001b[1;33m[\u001b[0m\u001b[0menv\u001b[0m\u001b[1;33m]\u001b[0m \u001b[1;33m=\u001b[0m \u001b[0mval\u001b[0m\u001b[1;33m\u001b[0m\u001b[0m\n\u001b[0m\u001b[0;32m    542\u001b[0m         \u001b[1;32mdef\u001b[0m \u001b[0mdel_\u001b[0m\u001b[1;33m(\u001b[0m\u001b[0mself\u001b[0m\u001b[1;33m)\u001b[0m\u001b[1;33m:\u001b[0m\u001b[1;33m\u001b[0m\u001b[0m\n\u001b[0;32m    543\u001b[0m             \u001b[1;32mdel\u001b[0m \u001b[0mself\u001b[0m\u001b[1;33m[\u001b[0m\u001b[0menv\u001b[0m\u001b[1;33m]\u001b[0m\u001b[1;33m\u001b[0m\u001b[0m\n",
      "\u001b[1;32mC:\\Program Files (x86)\\ArcGIS\\Desktop10.6\\ArcPy\\arcpy\\geoprocessing\\_base.py\u001b[0m in \u001b[0;36m__setitem__\u001b[1;34m(self, item, value)\u001b[0m\n\u001b[0;32m    596\u001b[0m         \u001b[1;32mdef\u001b[0m \u001b[0m__setitem__\u001b[0m\u001b[1;33m(\u001b[0m\u001b[0mself\u001b[0m\u001b[1;33m,\u001b[0m \u001b[0mitem\u001b[0m\u001b[1;33m,\u001b[0m \u001b[0mvalue\u001b[0m\u001b[1;33m)\u001b[0m\u001b[1;33m:\u001b[0m\u001b[1;33m\u001b[0m\u001b[0m\n\u001b[0;32m    597\u001b[0m             \u001b[1;31m# Force fetch\u001b[0m\u001b[1;33m\u001b[0m\u001b[1;33m\u001b[0m\u001b[0m\n\u001b[1;32m--> 598\u001b[1;33m             \u001b[0mneed_refresh\u001b[0m \u001b[1;33m=\u001b[0m \u001b[0mitem\u001b[0m \u001b[1;32mnot\u001b[0m \u001b[1;32min\u001b[0m \u001b[0mself\u001b[0m\u001b[1;33m.\u001b[0m\u001b[0m_gp\u001b[0m\u001b[1;33m.\u001b[0m\u001b[0mlistEnvironments\u001b[0m\u001b[1;33m(\u001b[0m\u001b[1;33m)\u001b[0m\u001b[1;33m\u001b[0m\u001b[0m\n\u001b[0m\u001b[0;32m    599\u001b[0m             \u001b[1;32mif\u001b[0m \u001b[0mhasattr\u001b[0m\u001b[1;33m(\u001b[0m\u001b[0mvalue\u001b[0m\u001b[1;33m,\u001b[0m \u001b[1;34m'_arc_object'\u001b[0m\u001b[1;33m)\u001b[0m\u001b[1;33m:\u001b[0m\u001b[1;33m\u001b[0m\u001b[0m\n\u001b[0;32m    600\u001b[0m                 \u001b[0mvalue\u001b[0m \u001b[1;33m=\u001b[0m \u001b[0mvalue\u001b[0m\u001b[1;33m.\u001b[0m\u001b[0m_arc_object\u001b[0m\u001b[1;33m\u001b[0m\u001b[0m\n",
      "\u001b[1;31mKeyboardInterrupt\u001b[0m: "
     ]
    }
   ],
   "source": [
    "from gasp.cpu.arcg.spanlst.view import generate_obs_points_for_large_viewshed\n",
    "\n",
    "LULC_RASTER  = r'C:\\giswork\\ext_cgi\\event_0_lulc_1.tif'\n",
    "DEM_RASTER   = r'C:\\giswork\\ext_cgi\\srtm_inrst.tif'\n",
    "REFCELLS_SHP = r'C:\\giswork\\ext_cgi\\grid_10x10km.shp'\n",
    "ID_CELLS     = \"id_cell\"\n",
    "OUT_FOLDER   = r'C:\\giswork\\ext_cgi\\view_0_1'\n",
    "SNAP_RASTER  = r'C:\\giswork\\ext_cgi\\rst_ref.tif'\n",
    "EPSG         = 3763\n",
    "TOLERANCE    = 500\n",
    "\n",
    "generate_obs_points_for_large_viewshed(\n",
    "    LULC_RASTER, DEM_RASTER, REFCELLS_SHP,\n",
    "    ID_CELLS, OUT_FOLDER, SNAP_RASTER,\n",
    "    EPSG, TOLERANCE,\n",
    "    PRODUCE_DEM=None, PRODUCE_FROM_INDEX=None\n",
    ")"
   ]
  },
  {
   "cell_type": "code",
   "execution_count": null,
   "metadata": {},
   "outputs": [],
   "source": [
    "import os\n",
    "from threading              import Thread\n",
    "from gasp.oss               import get_filename\n",
    "from gasp.oss.ops           import create_folder\n",
    "from gasp.arcg.mng.rst.proc import clip_raster_each_feat_class\n",
    "from gasp.arcg.spanlst.rcls import rcls_folderRaster\n",
    "from gasp.arcg.spanlst.view import generalize_obs_points_forFolder\n",
    "from gasp.pnd.anls.exct     import split_shp_by_attr\n",
    "from gasp.pnd.mng.ext       import buffer_extent\n",
    "from gasp.arcg.spanlst.surf import viewshed\n",
    "from gasp.fmshp             import shp_to_df\n",
    "from gasp.pnd.mng.fld       import col_distinct\n",
    "\n",
    "INTEREST_RASTER = r'C:\\gis\\EXT_CGI\\validation\\cls_interesse_bin\\event_0_lulc_1.tif'\n",
    "DEM             = r'C:\\gis\\EXT_CGI\\base\\dem\\srtm\\srtm_inrst.tif'\n",
    "REF_CELLS       = r'C:\\gis\\EXT_CGI\\ref_grids\\grid_10x10km.shp'\n",
    "ID_CELLS        = \"id_cell\"\n",
    "OUT_FOLDER      = r'C:\\gis\\EXT_CGI\\validation\\view_0_1'\n",
    "SNAP_RASTER     = r'C:\\gis\\EXT_CGI\\validation\\rst_ref.tif'\n",
    "SRS_EPSG        = 3763\n",
    "\n",
    "C_CELLS_FLD = os.path.join(OUT_FOLDER, 'cells')\n",
    "RST_TMP     = os.path.join(OUT_FOLDER, 'mask_tmp')\n",
    "RST_FLD     = os.path.join(OUT_FOLDER, 'mask_rst')\n",
    "B_CELLS_FLD = os.path.join(OUT_FOLDER, 'bf_cells')\n",
    "OBS_FLD     = os.path.join(OUT_FOLDER, 'obs_pnt')\n",
    "DEM_RST     = os.path.join(OUT_FOLDER, get_filename(DEM))\n",
    "\n",
    "THRD_MAPS = {\n",
    "    \"INT_RST\" : {\n",
    "        \"CELLS_FLD\" : create_folder(C_CELLS_FLD, overwrite=None) if not os.path.exists(C_CELLS_FLD) else C_CELLS_FLD,\n",
    "        \"RST_TMP\"   : create_folder(RST_TMP, overwrite=None) if not os.path.exists(RST_TMP) else RST_TMP,\n",
    "        \"RST_FLD\"   : create_folder(RST_FLD, overwrite=None) if not os.path.exists(RST_FLD) else RST_FLD,\n",
    "        \"OBS_FLD\"   : create_folder(OBS_FLD, overwrite=None) if not os.path.exists(OBS_FLD) else OBS_FLD\n",
    "    },\n",
    "    \"DEM\"   : {\n",
    "        \"RST_FLD\"   : create_folder(DEM_RST, overwrite=True) if not os.path.exists(DEM_RST) else DEM_RST,\n",
    "        \"CELLS_FLD\" : create_folder(B_CELLS_FLD, overwrite=None) if not os.path.exists(B_CELLS_FLD) else B_CELLS_FLD,\n",
    "    }\n",
    "}"
   ]
  },
  {
   "cell_type": "code",
   "execution_count": null,
   "metadata": {},
   "outputs": [],
   "source": [
    "\"\"\"\n",
    "Split Cells\n",
    "\"\"\"\n",
    "\n",
    "def split_cells(f, bf, of):\n",
    "    if bf == \"DEM\":\n",
    "        _f = buffer_extent(f, SRS_EPSG, 10000, os.path.join(OUT_FOLDER, 'bf_cells.shp'))\n",
    "    \n",
    "    else:\n",
    "        _f = f\n",
    "    \n",
    "    split_shp_by_attr(_f, ID_CELLS, of[\"CELLS_FLD\"], _format='.shp')\n",
    "\n",
    "\n",
    "thrds = [Thread(\n",
    "    name='split-{}'.format(k), target=split_cells, args=(REF_CELLS, k, THRD_MAPS[k])\n",
    ") for k in THRD_MAPS]\n",
    "\n",
    "for t in thrds:\n",
    "    t.start()\n",
    "\n",
    "for t in thrds:\n",
    "    t.join()"
   ]
  },
  {
   "cell_type": "code",
   "execution_count": null,
   "metadata": {},
   "outputs": [],
   "source": [
    "\"\"\"\n",
    "Clip INTEREST RASTER for all cells in CELLS_FLD and BF_CELLS_FLD\n",
    "\"\"\"\n",
    "\n",
    "for key, val in THRD_MAPS.items():\n",
    "    inrst = DEM if key == \"DEM\" else INTEREST_RASTER\n",
    "\n",
    "    clip_raster_each_feat_class(\n",
    "        inrst, val[\"CELLS_FLD\"],\n",
    "        val[\"RST_FLD\"] if key == \"DEM\" else val[\"RST_TMP\"],\n",
    "        snap=SNAP_RASTER, clipGeometry=True\n",
    "    )"
   ]
  },
  {
   "cell_type": "code",
   "execution_count": null,
   "metadata": {},
   "outputs": [],
   "source": [
    "\"\"\"\n",
    "Reclassify Rasters of interest:\n",
    "\n",
    "- For each cell, create a Raster with presence of class and other with ausence of class\n",
    "\"\"\"\n",
    "    \n",
    "rcls_folderRaster(THRD_MAPS[\"INT_RST\"][\"RST_TMP\"], {0 : 'NoData', 1 : 1}, THRD_MAPS[\"INT_RST\"][\"RST_FLD\"])"
   ]
  },
  {
   "cell_type": "code",
   "execution_count": null,
   "metadata": {},
   "outputs": [],
   "source": [
    "\"\"\"\n",
    "Create Observer points for each raster\n",
    "\"\"\"\n",
    "\n",
    "generalize_obs_points_forFolder(\n",
    "    THRD_MAPS[\"INT_RST\"][\"RST_FLD\"], 500, THRD_MAPS[\"INT_RST\"][\"OBS_FLD\"]\n",
    ")"
   ]
  },
  {
   "cell_type": "code",
   "execution_count": null,
   "metadata": {},
   "outputs": [],
   "source": [
    "cellsDf = shp_to_df(REF_CELLS)\n",
    "\n",
    "LST_CELLS = col_distinct(cellsDf, ID_CELLS)"
   ]
  },
  {
   "cell_type": "code",
   "execution_count": null,
   "metadata": {},
   "outputs": [],
   "source": [
    "import arcpy\n",
    "arcpy.CheckOutExtension('Spatial')"
   ]
  },
  {
   "cell_type": "code",
   "execution_count": null,
   "metadata": {},
   "outputs": [],
   "source": [
    "OBS_REF_NAME = get_filename(REF_CELLS)\n",
    "\n",
    "for cell_id in LST_CELLS[:40]:\n",
    "    OUT_RST = os.path.join(OUT_FOLDER, \"vis_{}.tif\".format(str(cell_id)))\n",
    "    \n",
    "    if os.path.exists(OUT_RST):\n",
    "        continue\n",
    "    \n",
    "    DEM_RST = os.path.join(THRD_MAPS[\"DEM\"][\"RST_FLD\"], \"bf_cells_{}.tif\".format(str(cell_id)))\n",
    "    \n",
    "    OBS_SHP = os.path.join(THRD_MAPS[\"INT_RST\"][\"OBS_FLD\"], \"{}_{}.shp\".format(OBS_REF_NAME, str(int(cell_id))))\n",
    "    if not os.path.exists(OBS_SHP):\n",
    "        continue\n",
    "    \n",
    "    viewshed(\n",
    "        DEM_RST, OBS_SHP, OUT_RST, snapRaster=DEM_RST, extRaster=DEM_RST\n",
    "    )"
   ]
  },
  {
   "cell_type": "code",
   "execution_count": null,
   "metadata": {},
   "outputs": [],
   "source": [
    "print LST_CELLS[:5]"
   ]
  },
  {
   "cell_type": "code",
   "execution_count": null,
   "metadata": {},
   "outputs": [],
   "source": []
  }
 ],
 "metadata": {
  "kernelspec": {
   "display_name": "Python 2",
   "language": "python",
   "name": "python2"
  },
  "language_info": {
   "codemirror_mode": {
    "name": "ipython",
    "version": 2
   },
   "file_extension": ".py",
   "mimetype": "text/x-python",
   "name": "python",
   "nbconvert_exporter": "python",
   "pygments_lexer": "ipython2",
   "version": "2.7.14"
  }
 },
 "nbformat": 4,
 "nbformat_minor": 2
}
