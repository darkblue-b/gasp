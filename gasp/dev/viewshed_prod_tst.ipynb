{
 "cells": [
  {
   "cell_type": "code",
   "execution_count": 1,
   "metadata": {},
   "outputs": [],
   "source": [
    "import os\n",
    "from threading              import Thread\n",
    "from gasp.oss               import get_filename\n",
    "from gasp.oss.ops           import create_folder\n",
    "from gasp.arcg.mng.rst.proc import clip_raster_each_feat_class\n",
    "from gasp.arcg.spanlst.rcls import rcls_folderRaster\n",
    "from gasp.arcg.spanlst.view import generalize_obs_points_forFolder\n",
    "from gasp.pnd.anls.exct     import split_shp_by_attr\n",
    "from gasp.pnd.mng.ext       import buffer_extent\n",
    "from gasp.arcg.spanlst.surf import viewshed\n",
    "from gasp.fm.shp            import shp_to_df\n",
    "from gasp.pnd.mng.fld       import col_distinct\n",
    "\n",
    "INTEREST_RASTER = r'C:\\gis\\EXT_CGI\\validation\\cls_interesse_bin\\event_0_lulc_0.tif'\n",
    "DEM             = r'C:\\gis\\EXT_CGI\\base\\dem\\srtm\\srtm_inrst.tif'\n",
    "REF_CELLS       = r'C:\\gis\\EXT_CGI\\ref_grids\\grid_10x10km.shp'\n",
    "ID_CELLS        = \"id_cell\"\n",
    "OUT_FOLDER      = r'C:\\gis\\EXT_CGI\\validation\\view_0_0'\n",
    "SNAP_RASTER     = r'C:\\gis\\EXT_CGI\\validation\\view\\rst_ref.tif'\n",
    "SRS_EPSG        = 3763\n",
    "\n",
    "C_CELLS_FLD = os.path.join(OUT_FOLDER, 'cells')\n",
    "RST_TMP     = os.path.join(OUT_FOLDER, 'mask_tmp')\n",
    "RST_FLD     = os.path.join(OUT_FOLDER, 'mask_rst')\n",
    "B_CELLS_FLD = os.path.join(OUT_FOLDER, 'bf_cells')\n",
    "OBS_FLD     = os.path.join(OUT_FOLDER, 'obs_pnt')\n",
    "DEM_RST     = os.path.join(OUT_FOLDER, get_filename(DEM))\n",
    "\n",
    "THRD_MAPS = {\n",
    "    \"INT_RST\" : {\n",
    "        \"CELLS_FLD\" : create_folder(C_CELLS_FLD, overwrite=None) if not os.path.exists(C_CELLS_FLD) else C_CELLS_FLD,\n",
    "        \"RST_TMP\"   : create_folder(RST_TMP, overwrite=None) if not os.path.exists(RST_TMP) else RST_TMP,\n",
    "        \"RST_FLD\"   : create_folder(RST_FLD, overwrite=None) if not os.path.exists(RST_FLD) else RST_FLD,\n",
    "        \"OBS_FLD\"   : create_folder(OBS_FLD, overwrite=None) if not os.path.exists(OBS_FLD) else OBS_FLD\n",
    "    },\n",
    "    \"DEM\"   : {\n",
    "        \"RST_FLD\"   : create_folder(DEM_RST, overwrite=True) if not os.path.exists(DEM_RST) else DEM_RST,\n",
    "        \"CELLS_FLD\" : create_folder(B_CELLS_FLD, overwrite=None) if not os.path.exists(B_CELLS_FLD) else B_CELLS_FLD,\n",
    "    }\n",
    "}"
   ]
  },
  {
   "cell_type": "code",
   "execution_count": null,
   "metadata": {},
   "outputs": [],
   "source": [
    "\"\"\"\n",
    "Split Cells\n",
    "\"\"\"\n",
    "\n",
    "def split_cells(f, bf, of):\n",
    "    if bf == \"DEM\":\n",
    "        _f = buffer_extent(f, SRS_EPSG, 10000, os.path.join(OUT_FOLDER, 'bf_cells.shp'))\n",
    "    \n",
    "    else:\n",
    "        _f = f\n",
    "    \n",
    "    split_shp_by_attr(_f, ID_CELLS, of[\"CELLS_FLD\"], _format='.shp')\n",
    "\n",
    "\n",
    "thrds = [Thread(\n",
    "    name='split-{}'.format(k), target=split_cells, args=(REF_CELLS, k, THRD_MAPS[k])\n",
    ") for k in THRD_MAPS]\n",
    "\n",
    "for t in thrds:\n",
    "    t.start()\n",
    "\n",
    "for t in thrds:\n",
    "    t.join()"
   ]
  },
  {
   "cell_type": "code",
   "execution_count": null,
   "metadata": {},
   "outputs": [],
   "source": [
    "\"\"\"\n",
    "Clip INTEREST RASTER for all cells in CELLS_FLD and BF_CELLS_FLD\n",
    "\"\"\"\n",
    "\n",
    "for key, val in THRD_MAPS.items():\n",
    "    inrst = DEM if key == \"DEM\" else INTEREST_RASTER\n",
    "\n",
    "    clip_raster_each_feat_class(\n",
    "        inrst, val[\"CELLS_FLD\"],\n",
    "        val[\"RST_FLD\"] if key == \"DEM\" else val[\"RST_TMP\"],\n",
    "        snap=SNAP_RASTER, clipGeometry=True\n",
    "    )"
   ]
  },
  {
   "cell_type": "code",
   "execution_count": null,
   "metadata": {},
   "outputs": [],
   "source": [
    "\"\"\"\n",
    "Reclassify Rasters of interest:\n",
    "\n",
    "- For each cell, create a Raster with presence of class and other with ausence of class\n",
    "\"\"\"\n",
    "    \n",
    "rcls_folderRaster(THRD_MAPS[\"INT_RST\"][\"RST_TMP\"], {0 : 'NoData', 1 : 1}, THRD_MAPS[\"INT_RST\"][\"RST_FLD\"])"
   ]
  },
  {
   "cell_type": "code",
   "execution_count": null,
   "metadata": {},
   "outputs": [],
   "source": [
    "\"\"\"\n",
    "Create Observer points for each raster\n",
    "\"\"\"\n",
    "\n",
    "generalize_obs_points_forFolder(\n",
    "    THRD_MAPS[\"INT_RST\"][\"RST_FLD\"], 500, THRD_MAPS[\"INT_RST\"][\"OBS_FLD\"]\n",
    ")"
   ]
  },
  {
   "cell_type": "code",
   "execution_count": 2,
   "metadata": {},
   "outputs": [],
   "source": [
    "cellsDf = shp_to_df(REF_CELLS)\n",
    "\n",
    "LST_CELLS = col_distinct(cellsDf, ID_CELLS)"
   ]
  },
  {
   "cell_type": "code",
   "execution_count": null,
   "metadata": {},
   "outputs": [],
   "source": [
    "import arcpy\n",
    "arcpy.CheckOutExtension('Spatial')"
   ]
  },
  {
   "cell_type": "code",
   "execution_count": 6,
   "metadata": {},
   "outputs": [],
   "source": [
    "OBS_REF_NAME = get_filename(REF_CELLS)\n",
    "\n",
    "for cell_id in LST_CELLS[:980]:\n",
    "    OUT_RST = os.path.join(OUT_FOLDER, \"vis_{}.tif\".format(str(cell_id)))\n",
    "    \n",
    "    if os.path.exists(OUT_RST):\n",
    "        continue\n",
    "    \n",
    "    DEM_RST = os.path.join(THRD_MAPS[\"DEM\"][\"RST_FLD\"], \"bf_cells_{}.tif\".format(str(cell_id)))\n",
    "    \n",
    "    OBS_SHP = os.path.join(THRD_MAPS[\"INT_RST\"][\"OBS_FLD\"], \"{}_{}.shp\".format(OBS_REF_NAME, str(int(cell_id))))\n",
    "    if not os.path.exists(OBS_SHP):\n",
    "        continue\n",
    "    \n",
    "    viewshed(\n",
    "        DEM_RST, OBS_SHP, OUT_RST, snapRaster=DEM_RST, extRaster=DEM_RST\n",
    "    )"
   ]
  },
  {
   "cell_type": "code",
   "execution_count": null,
   "metadata": {},
   "outputs": [],
   "source": []
  }
 ],
 "metadata": {
  "kernelspec": {
   "display_name": "Python 2",
   "language": "python",
   "name": "python2"
  },
  "language_info": {
   "codemirror_mode": {
    "name": "ipython",
    "version": 2
   },
   "file_extension": ".py",
   "mimetype": "text/x-python",
   "name": "python",
   "nbconvert_exporter": "python",
   "pygments_lexer": "ipython2",
   "version": "2.7.14"
  }
 },
 "nbformat": 4,
 "nbformat_minor": 2
}
