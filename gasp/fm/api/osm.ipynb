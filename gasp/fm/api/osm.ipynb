{
 "cells": [
  {
   "cell_type": "code",
   "execution_count": null,
   "metadata": {},
   "outputs": [],
   "source": [
    "\"\"\"\n",
    "Download OSM data in the extent of an PGSQL Table\n",
    "\"\"\"\n",
    "\n",
    "conParam = {\n",
    "    \"HOST\" : \"localhost\", \"USER\" : \"postgres\", \"PORT\" : \"5432\",\n",
    "    \"PASSWORD\" : \"admin\", \"DATABASE\" : \"tnt_db\"\n",
    "}\n",
    "\n",
    "TABLE = \"lines_shape\"\n",
    "GEOM_COL = \"geom\"\n",
    "\n",
    "OUTFILE = r'D:\\gis\\TRENMO_WEBAPP\\tst_osm.xml'\n",
    "\n",
    "download_by_psqlext(conParam, TABLE, GEOM_COL, OUTFILE)"
   ]
  },
  {
   "cell_type": "code",
   "execution_count": 1,
   "metadata": {},
   "outputs": [
    {
     "data": {
      "text/plain": [
       "'C:\\\\giswork\\\\OSM2LULC_15Nov\\\\osmfiles\\\\coimbra.xml'"
      ]
     },
     "execution_count": 1,
     "metadata": {},
     "output_type": "execute_result"
    }
   ],
   "source": [
    "\"\"\"\n",
    "Download OSM Data using an Boundary as reference\n",
    "\"\"\"\n",
    "\n",
    "from gasp.fm.api.osm import download_by_boundary\n",
    "import os\n",
    "\n",
    "inShp  = r'C:\\giswork\\OSM2LULC_15Nov\\boundaries\\coimbra_10x10.shp'\n",
    "outXml = r'C:\\giswork\\OSM2LULC_15Nov\\osmfiles\\coimbra.xml'\n",
    "download_by_boundary(inShp, outXml, 3857)"
   ]
  },
  {
   "cell_type": "code",
   "execution_count": null,
   "metadata": {},
   "outputs": [],
   "source": [
    "\"\"\"\n",
    "GET OSM TO ESRI Shapefile\n",
    "\"\"\"\n",
    "\n",
    "from gasp.toshp.gdl import getosm_to_featurecls\n",
    "\n",
    "INBOUNDARY   = r'C:\\gis\\MOD_ACCESS\\KPH_AMNT\\lmt\\lmt.shp'\n",
    "OUTSHP       = r'C:\\gis\\MOD_ACCESS\\KPH_AMNT\\osm_data'\n",
    "boundaryEPSG = 3763\n",
    "outEPSG      = 3763\n",
    "\n",
    "getosm_to_featurecls(\n",
    "    INBOUNDARY, OUTSHP,\n",
    "    boundaryEpsg=boundaryEPSG\n",
    ")"
   ]
  }
 ],
 "metadata": {
  "kernelspec": {
   "display_name": "Python 2",
   "language": "python",
   "name": "python2"
  },
  "language_info": {
   "codemirror_mode": {
    "name": "ipython",
    "version": 2
   },
   "file_extension": ".py",
   "mimetype": "text/x-python",
   "name": "python",
   "nbconvert_exporter": "python",
   "pygments_lexer": "ipython2",
   "version": "2.7.12"
  }
 },
 "nbformat": 4,
 "nbformat_minor": 2
}
