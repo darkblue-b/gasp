{
 "cells": [
  {
   "cell_type": "markdown",
   "metadata": {},
   "source": [
    "# Geographic Extent Related #"
   ]
  },
  {
   "cell_type": "markdown",
   "metadata": {},
   "source": [
    "### Point to Boundary using tolerance in meters ###"
   ]
  },
  {
   "cell_type": "code",
   "execution_count": null,
   "metadata": {},
   "outputs": [],
   "source": [
    "from gasp.cpu.gdl.mng.ext import points_to_boundary; import os\n",
    "\n",
    "PNT_SHP = r'D:\\indev\\OSM2LULC\\OSM2LULC_WEB_Via\\boundaries\\madrid_pnt.shp'\n",
    "outFolder = r'D:\\indev\\OSM2LULC\\OSM2LULC_WEB_Via\\boundaries'\n",
    "basename = \"madrid\"\n",
    "tolerances = [25000, 28000]\n",
    "\n",
    "for tol in tolerances:\n",
    "    points_to_boundary(PNT_SHP, os.path.join(outFolder, \"{}_{}.shp\".format(basename, tol)), tol)"
   ]
  },
  {
   "cell_type": "markdown",
   "metadata": {},
   "source": [
    "### Data Extent to Raster ###"
   ]
  },
  {
   "cell_type": "code",
   "execution_count": null,
   "metadata": {},
   "outputs": [],
   "source": [
    "from gasp.cpu.gdl.mng.ext import shpextent_to_raster\n",
    "\n",
    "inSHP = r'C:\\indev\\cw_gisdata\\elevation_data.shp'\n",
    "outRASTER = r'C:\\indev\\cw_gisdata\\raster_referencia.tif'\n",
    "CELLSIZE = 10\n",
    "EPSG = 3763\n",
    "\n",
    "shpextent_to_raster(inSHP, outRASTER, cellsize=CELLSIZE, epsg=EPSG)"
   ]
  },
  {
   "cell_type": "code",
   "execution_count": null,
   "metadata": {},
   "outputs": [],
   "source": []
  }
 ],
 "metadata": {
  "kernelspec": {
   "display_name": "Python 2",
   "language": "python",
   "name": "python2"
  },
  "language_info": {
   "codemirror_mode": {
    "name": "ipython",
    "version": 2
   },
   "file_extension": ".py",
   "mimetype": "text/x-python",
   "name": "python",
   "nbconvert_exporter": "python",
   "pygments_lexer": "ipython2",
   "version": "2.7.14"
  }
 },
 "nbformat": 4,
 "nbformat_minor": 2
}
