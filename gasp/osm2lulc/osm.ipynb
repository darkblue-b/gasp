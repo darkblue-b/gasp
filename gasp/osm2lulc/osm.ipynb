{
 "cells": [
  {
   "cell_type": "code",
   "execution_count": null,
   "metadata": {},
   "outputs": [],
   "source": [
    "\"\"\"\n",
    "Download OSM data in the extent of an PGSQL Table\n",
    "\"\"\"\n",
    "\n",
    "conParam = {\n",
    "    \"HOST\" : \"localhost\", \"USER\" : \"postgres\", \"PORT\" : \"5432\",\n",
    "    \"PASSWORD\" : \"admin\", \"DATABASE\" : \"tnt_db\"\n",
    "}\n",
    "\n",
    "TABLE = \"lines_shape\"\n",
    "GEOM_COL = \"geom\"\n",
    "\n",
    "OUTFILE = r'D:\\gis\\TRENMO_WEBAPP\\tst_osm.xml'\n",
    "\n",
    "download_by_psqlext(conParam, TABLE, GEOM_COL, OUTFILE)"
   ]
  },
  {
   "cell_type": "code",
   "execution_count": 1,
   "metadata": {},
   "outputs": [
    {
     "data": {
      "text/plain": [
       "'http://overpass-api.de/api/map?bbox=1.84546455,41.25559665,2.19039458,41.39329288'"
      ]
     },
     "execution_count": 1,
     "metadata": {},
     "output_type": "execute_result"
    }
   ],
   "source": [
    "\"\"\"\n",
    "Download OSM Data using an Boundary as reference\n",
    "\"\"\"\n",
    "\n",
    "from gasp.fm.api.osm import download_by_boundary\n",
    "import os\n",
    "\n",
    "inShp  = [\n",
    "    #r'D:\\indev\\OSM2LULC\\OSM2LULC_WEB_Via\\boundaries\\madrid_10000.shp',\n",
    "    '/home/osmtolulc/catolina/lmt_catalonia.shp',\n",
    "    #r'D:\\indev\\OSM2LULC\\OSM2LULC_WEB_Via\\boundaries\\madrid_30000.shp'\n",
    "]\n",
    "outXml = '/home/osmtolulc/catalonia/osm_catalonia.xml'\n",
    "\n",
    "\"\"\"\n",
    "for s in inShp:\n",
    "    print download_by_boundary(\n",
    "        s, os.path.join(outXml, os.path.splitext(os.path.basename(s))[0] + '.xml'), 3857)\n",
    "\"\"\"\n",
    "download_by_boundary('/home/osmtolulc/catalonia/lmt_catalonia.shp', outXml, 3857)"
   ]
  },
  {
   "cell_type": "code",
   "execution_count": null,
   "metadata": {},
   "outputs": [],
   "source": [
    "\"\"\"\n",
    "GET OSM TO ESRI Shapefile\n",
    "\"\"\"\n",
    "\n",
    "from gasp.toshp.gdl import getosm_to_featurecls\n",
    "\n",
    "INBOUNDARY   = r'C:\\gis\\MOD_ACCESS\\KPH_AMNT\\lmt\\lmt.shp'\n",
    "OUTSHP       = r'C:\\gis\\MOD_ACCESS\\KPH_AMNT\\osm_data'\n",
    "boundaryEPSG = 3763\n",
    "outEPSG      = 3763\n",
    "\n",
    "getosm_to_featurecls(\n",
    "    INBOUNDARY, OUTSHP,\n",
    "    boundaryEpsg=boundaryEPSG\n",
    ")"
   ]
  },
  {
   "cell_type": "code",
   "execution_count": null,
   "metadata": {},
   "outputs": [],
   "source": [
    "\"\"\"\n",
    "Extract data from OSM FILE by extent of one region\n",
    "\"\"\"\n",
    "\n",
    "from gasp.to.osm import osmosis_extract\n",
    "\n",
    "IN_BOUNDARY = r'D:\\indev\\OSM2LULC\\OSM2LULC_WEB_Via\\boundaries\\madrid_60x60.shp'\n",
    "OSM_DATA = r'D:\\indev\\OSM2LULC\\OSM2LULC_WEB_Via\\osmfiles\\spain-latest.xml'\n",
    "OUT_OSM_DATA = r'D:\\indev\\OSM2LULC\\OSM2LULC_WEB_Via\\osmfiles\\madrid_60x60.xml'\n",
    "osmosis_extract(IN_BOUNDARY, OSM_DATA, 3857, OUT_OSM_DATA)"
   ]
  },
  {
   "cell_type": "code",
   "execution_count": null,
   "metadata": {},
   "outputs": [],
   "source": [
    "url = 'http://overpass-api.de/api/map?bbox=-3.87298565171,40.2771620045,-3.51365953807,40.5507452437'\n",
    "\n",
    "from selenium import webdriver\n",
    "from selenium.webdriver.firefox.firefox_binary import FirefoxBinary\n",
    "\n",
    "profile = webdriver.FirefoxProfile()\n",
    "profile.set_preference(\"browser.download.folderList\", 2)\n",
    "profile.set_preference(\"browser.download.manager.showWhenStarting\", False)\n",
    "profile.set_preference(\"browser.download.dir\", r'D:\\down')\n",
    "profile.set_preference(\"browser.helperApps.neverAsk.saveToDisk\", \"text/xml\")\n",
    "\n",
    "binary = FirefoxBinary(r'C:\\Program Files\\Mozilla Firefox\\firefox.exe')\n",
    "browser = webdriver.Firefox(\n",
    "    firefox_profile=profile,\n",
    "    firefox_binary=binary\n",
    ")\n",
    "browser.get('https://selenium-python.readthedocs.io/getting-started.html')\n",
    "print browser.title\n",
    "\n",
    "browser.close()"
   ]
  },
  {
   "cell_type": "code",
   "execution_count": null,
   "metadata": {},
   "outputs": [],
   "source": []
  }
 ],
 "metadata": {
  "kernelspec": {
   "display_name": "Python 2",
   "language": "python",
   "name": "python2"
  },
  "language_info": {
   "codemirror_mode": {
    "name": "ipython",
    "version": 2
   },
   "file_extension": ".py",
   "mimetype": "text/x-python",
   "name": "python",
   "nbconvert_exporter": "python",
   "pygments_lexer": "ipython2",
   "version": "2.7.15rc1"
  }
 },
 "nbformat": 4,
 "nbformat_minor": 2
}
