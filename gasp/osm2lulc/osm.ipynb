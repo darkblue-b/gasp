{
 "cells": [
  {
   "cell_type": "code",
   "execution_count": null,
   "metadata": {},
   "outputs": [],
   "source": [
    "\"\"\"\n",
    "Download OSM data in the extent of an PGSQL Table\n",
    "\"\"\"\n",
    "\n",
    "conParam = {\n",
    "    \"HOST\" : \"localhost\", \"USER\" : \"postgres\", \"PORT\" : \"5432\",\n",
    "    \"PASSWORD\" : \"admin\", \"DATABASE\" : \"tnt_db\"\n",
    "}\n",
    "\n",
    "TABLE = \"lines_shape\"\n",
    "GEOM_COL = \"geom\"\n",
    "\n",
    "OUTFILE = r'D:\\gis\\TRENMO_WEBAPP\\tst_osm.xml'\n",
    "\n",
    "download_by_psqlext(conParam, TABLE, GEOM_COL, OUTFILE)"
   ]
  },
  {
   "cell_type": "code",
   "execution_count": null,
   "metadata": {},
   "outputs": [],
   "source": [
    "\"\"\"\n",
    "Download OSM Data using an Boundary as reference\n",
    "\"\"\"\n",
    "\n",
    "from gasp.fm.api.osm import download_by_boundary\n",
    "import os\n",
    "\n",
    "inShp  = [\n",
    "    #r'D:\\indev\\OSM2LULC\\OSM2LULC_WEB_Via\\boundaries\\madrid_10000.shp',\n",
    "    r'D:\\indev\\OSM2LULC\\OSM2LULC_WEB_Via\\boundaries\\madrid_40x40.shp',\n",
    "    #r'D:\\indev\\OSM2LULC\\OSM2LULC_WEB_Via\\boundaries\\madrid_30000.shp'\n",
    "]\n",
    "outXml = r'D:\\indev\\OSM2LULC\\OSM2LULC_WEB_Via\\osmfiles'\n",
    "\n",
    "for s in inShp:\n",
    "    print download_by_boundary(s, os.path.join(outXml, os.path.splitext(os.path.basename(s))[0] + '.xml'), 3857)"
   ]
  },
  {
   "cell_type": "code",
   "execution_count": null,
   "metadata": {},
   "outputs": [],
   "source": [
    "\"\"\"\n",
    "GET OSM TO ESRI Shapefile\n",
    "\"\"\"\n",
    "\n",
    "from gasp.toshp.gdl import getosm_to_featurecls\n",
    "\n",
    "INBOUNDARY   = r'C:\\gis\\MOD_ACCESS\\KPH_AMNT\\lmt\\lmt.shp'\n",
    "OUTSHP       = r'C:\\gis\\MOD_ACCESS\\KPH_AMNT\\osm_data'\n",
    "boundaryEPSG = 3763\n",
    "outEPSG      = 3763\n",
    "\n",
    "getosm_to_featurecls(\n",
    "    INBOUNDARY, OUTSHP,\n",
    "    boundaryEpsg=boundaryEPSG\n",
    ")"
   ]
  },
  {
   "cell_type": "code",
   "execution_count": null,
   "metadata": {},
   "outputs": [],
   "source": [
    "\"\"\"\n",
    "Extract data from OSM FILE by extent of one region\n",
    "\"\"\"\n",
    "\n",
    "from gasp.to.osm import osmosis_extract\n",
    "\n",
    "IN_BOUNDARY = r'D:\\indev\\OSM2LULC\\OSM2LULC_WEB_Via\\boundaries\\madrid_60x60.shp'\n",
    "OSM_DATA = r'D:\\indev\\OSM2LULC\\OSM2LULC_WEB_Via\\osmfiles\\spain-latest.xml'\n",
    "OUT_OSM_DATA = r'D:\\indev\\OSM2LULC\\OSM2LULC_WEB_Via\\osmfiles\\madrid_60x60.xml'\n",
    "osmosis_extract(IN_BOUNDARY, OSM_DATA, 3857, OUT_OSM_DATA)"
   ]
  },
  {
   "cell_type": "code",
   "execution_count": 1,
   "metadata": {},
   "outputs": [
    {
     "ename": "WebDriverException",
     "evalue": "Message: The browser appears to have exited before we could connect. If you specified a log_file in the FirefoxBinary constructor, check it for details.\n",
     "output_type": "error",
     "traceback": [
      "\u001b[1;31m---------------------------------------------------------------------------\u001b[0m",
      "\u001b[1;31mWebDriverException\u001b[0m                        Traceback (most recent call last)",
      "\u001b[1;32m<ipython-input-1-e8412df69686>\u001b[0m in \u001b[0;36m<module>\u001b[1;34m()\u001b[0m\n\u001b[0;32m     13\u001b[0m browser = webdriver.Firefox(\n\u001b[0;32m     14\u001b[0m     \u001b[0mfirefox_profile\u001b[0m\u001b[1;33m=\u001b[0m\u001b[0mprofile\u001b[0m\u001b[1;33m,\u001b[0m\u001b[1;33m\u001b[0m\u001b[0m\n\u001b[1;32m---> 15\u001b[1;33m     \u001b[0mfirefox_binary\u001b[0m\u001b[1;33m=\u001b[0m\u001b[0mbinary\u001b[0m\u001b[1;33m\u001b[0m\u001b[0m\n\u001b[0m\u001b[0;32m     16\u001b[0m )\n\u001b[0;32m     17\u001b[0m \u001b[0mbrowser\u001b[0m\u001b[1;33m.\u001b[0m\u001b[0mget\u001b[0m\u001b[1;33m(\u001b[0m\u001b[1;34m'https://selenium-python.readthedocs.io/getting-started.html'\u001b[0m\u001b[1;33m)\u001b[0m\u001b[1;33m\u001b[0m\u001b[0m\n",
      "\u001b[1;32mc:\\python27\\arcgis10.6\\lib\\site-packages\\selenium\\webdriver\\firefox\\webdriver.pyc\u001b[0m in \u001b[0;36m__init__\u001b[1;34m(self, firefox_profile, firefox_binary, timeout, capabilities, proxy, executable_path, firefox_options)\u001b[0m\n\u001b[0;32m     78\u001b[0m \u001b[1;33m\u001b[0m\u001b[0m\n\u001b[0;32m     79\u001b[0m             executor = ExtensionConnection(\"127.0.0.1\", self.profile,\n\u001b[1;32m---> 80\u001b[1;33m                                            self.binary, timeout)\n\u001b[0m\u001b[0;32m     81\u001b[0m             RemoteWebDriver.__init__(\n\u001b[0;32m     82\u001b[0m                 \u001b[0mself\u001b[0m\u001b[1;33m,\u001b[0m\u001b[1;33m\u001b[0m\u001b[0m\n",
      "\u001b[1;32mc:\\python27\\arcgis10.6\\lib\\site-packages\\selenium\\webdriver\\firefox\\extension_connection.pyc\u001b[0m in \u001b[0;36m__init__\u001b[1;34m(self, host, firefox_profile, firefox_binary, timeout)\u001b[0m\n\u001b[0;32m     50\u001b[0m         \u001b[0mself\u001b[0m\u001b[1;33m.\u001b[0m\u001b[0mprofile\u001b[0m\u001b[1;33m.\u001b[0m\u001b[0madd_extension\u001b[0m\u001b[1;33m(\u001b[0m\u001b[1;33m)\u001b[0m\u001b[1;33m\u001b[0m\u001b[0m\n\u001b[0;32m     51\u001b[0m \u001b[1;33m\u001b[0m\u001b[0m\n\u001b[1;32m---> 52\u001b[1;33m         \u001b[0mself\u001b[0m\u001b[1;33m.\u001b[0m\u001b[0mbinary\u001b[0m\u001b[1;33m.\u001b[0m\u001b[0mlaunch_browser\u001b[0m\u001b[1;33m(\u001b[0m\u001b[0mself\u001b[0m\u001b[1;33m.\u001b[0m\u001b[0mprofile\u001b[0m\u001b[1;33m,\u001b[0m \u001b[0mtimeout\u001b[0m\u001b[1;33m=\u001b[0m\u001b[0mtimeout\u001b[0m\u001b[1;33m)\u001b[0m\u001b[1;33m\u001b[0m\u001b[0m\n\u001b[0m\u001b[0;32m     53\u001b[0m         \u001b[0m_URL\u001b[0m \u001b[1;33m=\u001b[0m \u001b[1;34m\"http://%s:%d/hub\"\u001b[0m \u001b[1;33m%\u001b[0m \u001b[1;33m(\u001b[0m\u001b[0mHOST\u001b[0m\u001b[1;33m,\u001b[0m \u001b[0mPORT\u001b[0m\u001b[1;33m)\u001b[0m\u001b[1;33m\u001b[0m\u001b[0m\n\u001b[0;32m     54\u001b[0m         RemoteConnection.__init__(\n",
      "\u001b[1;32mc:\\python27\\arcgis10.6\\lib\\site-packages\\selenium\\webdriver\\firefox\\firefox_binary.pyc\u001b[0m in \u001b[0;36mlaunch_browser\u001b[1;34m(self, profile, timeout)\u001b[0m\n\u001b[0;32m     66\u001b[0m \u001b[1;33m\u001b[0m\u001b[0m\n\u001b[0;32m     67\u001b[0m         \u001b[0mself\u001b[0m\u001b[1;33m.\u001b[0m\u001b[0m_start_from_profile_path\u001b[0m\u001b[1;33m(\u001b[0m\u001b[0mself\u001b[0m\u001b[1;33m.\u001b[0m\u001b[0mprofile\u001b[0m\u001b[1;33m.\u001b[0m\u001b[0mpath\u001b[0m\u001b[1;33m)\u001b[0m\u001b[1;33m\u001b[0m\u001b[0m\n\u001b[1;32m---> 68\u001b[1;33m         \u001b[0mself\u001b[0m\u001b[1;33m.\u001b[0m\u001b[0m_wait_until_connectable\u001b[0m\u001b[1;33m(\u001b[0m\u001b[0mtimeout\u001b[0m\u001b[1;33m=\u001b[0m\u001b[0mtimeout\u001b[0m\u001b[1;33m)\u001b[0m\u001b[1;33m\u001b[0m\u001b[0m\n\u001b[0m\u001b[0;32m     69\u001b[0m \u001b[1;33m\u001b[0m\u001b[0m\n\u001b[0;32m     70\u001b[0m     \u001b[1;32mdef\u001b[0m \u001b[0mkill\u001b[0m\u001b[1;33m(\u001b[0m\u001b[0mself\u001b[0m\u001b[1;33m)\u001b[0m\u001b[1;33m:\u001b[0m\u001b[1;33m\u001b[0m\u001b[0m\n",
      "\u001b[1;32mc:\\python27\\arcgis10.6\\lib\\site-packages\\selenium\\webdriver\\firefox\\firefox_binary.pyc\u001b[0m in \u001b[0;36m_wait_until_connectable\u001b[1;34m(self, timeout)\u001b[0m\n\u001b[0;32m     97\u001b[0m                 \u001b[1;31m# Browser has exited\u001b[0m\u001b[1;33m\u001b[0m\u001b[1;33m\u001b[0m\u001b[0m\n\u001b[0;32m     98\u001b[0m                 raise WebDriverException(\n\u001b[1;32m---> 99\u001b[1;33m                     \u001b[1;34m\"The browser appears to have exited \"\u001b[0m\u001b[1;33m\u001b[0m\u001b[0m\n\u001b[0m\u001b[0;32m    100\u001b[0m                     \u001b[1;34m\"before we could connect. If you specified a log_file in \"\u001b[0m\u001b[1;33m\u001b[0m\u001b[0m\n\u001b[0;32m    101\u001b[0m                     \"the FirefoxBinary constructor, check it for details.\")\n",
      "\u001b[1;31mWebDriverException\u001b[0m: Message: The browser appears to have exited before we could connect. If you specified a log_file in the FirefoxBinary constructor, check it for details.\n"
     ]
    }
   ],
   "source": [
    "url = 'http://overpass-api.de/api/map?bbox=-3.87298565171,40.2771620045,-3.51365953807,40.5507452437'\n",
    "\n",
    "from selenium import webdriver\n",
    "from selenium.webdriver.firefox.firefox_binary import FirefoxBinary\n",
    "\n",
    "profile = webdriver.FirefoxProfile()\n",
    "profile.set_preference(\"browser.download.folderList\", 2)\n",
    "profile.set_preference(\"browser.download.manager.showWhenStarting\", False)\n",
    "profile.set_preference(\"browser.download.dir\", r'D:\\down')\n",
    "profile.set_preference(\"browser.helperApps.neverAsk.saveToDisk\", \"text/xml\")\n",
    "\n",
    "binary = FirefoxBinary(r'C:\\Program Files\\Mozilla Firefox\\firefox.exe')\n",
    "browser = webdriver.Firefox(\n",
    "    firefox_profile=profile,\n",
    "    firefox_binary=binary\n",
    ")\n",
    "browser.get('https://selenium-python.readthedocs.io/getting-started.html')\n",
    "print browser.title\n",
    "\n",
    "browser.close()"
   ]
  },
  {
   "cell_type": "code",
   "execution_count": null,
   "metadata": {},
   "outputs": [],
   "source": []
  }
 ],
 "metadata": {
  "kernelspec": {
   "display_name": "Python 2",
   "language": "python",
   "name": "python2"
  },
  "language_info": {
   "codemirror_mode": {
    "name": "ipython",
    "version": 2
   },
   "file_extension": ".py",
   "mimetype": "text/x-python",
   "name": "python",
   "nbconvert_exporter": "python",
   "pygments_lexer": "ipython2",
   "version": "2.7.14"
  }
 },
 "nbformat": 4,
 "nbformat_minor": 2
}
