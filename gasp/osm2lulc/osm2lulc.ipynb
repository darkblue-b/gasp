{
 "cells": [
  {
   "cell_type": "markdown",
   "metadata": {},
   "source": [
    "### OSM2LULC - Versão Vectorial suportada pelo GRASS GIS ###\n",
    "\n",
    "O SQLITE pode ser usado para realizar o processamento associado à Rule 2. Isto tornará todo o processo mais rápido."
   ]
  },
  {
   "cell_type": "code",
   "execution_count": null,
   "metadata": {},
   "outputs": [],
   "source": [
    "from gasp.osm2lulc.grs import vector_based\n",
    "from gasp.osm2lulc.utils import record_time_consumed\n",
    "import datetime\n",
    "import os\n",
    "from gasp.oss import get_filename\n",
    "\n",
    "# Input parameters\n",
    "NOMENCLATURE = \"URBAN_ATLAS\"\n",
    "OSMDATA      = '/home/osmtolulc/catalonia/osm_catalonia.xml'\n",
    "refRaster    = '/home/osmtolulc/catalonia/r_catalonia.tif'\n",
    "lulcShp      = '/home/osmtolulc/catalonia/lulc_catalonia_ua.shp'\n",
    "epsg         = 3857\n",
    "overwrite    = True\n",
    "DATA_STORE   = '/home/osmtolulc/catalonia/tmpua'\n",
    "ROADS_METHD  = 'POSTGIS'\n",
    "\n",
    "time_a = datetime.datetime.now().replace(microsecond=0)\n",
    "\n",
    "lulcSHP, timeCheck = vector_based(\n",
    "    OSMDATA, NOMENCLATURE, refRaster, lulcShp,\n",
    "    overwrite=True, dataStore=DATA_STORE,\n",
    "    RoadsAPI=ROADS_METHD\n",
    ")\n",
    "\n",
    "time_b = datetime.datetime.now().replace(microsecond=0)\n",
    "\n",
    "record_time_consumed(timeCheck, os.path.join(\n",
    "    os.path.dirname(lulcShp), get_filename(lulcShp) + '.xlsx'\n",
    "))\n",
    "\n",
    "print time_b - time_a"
   ]
  },
  {
   "cell_type": "markdown",
   "metadata": {},
   "source": [
    "### OSM2LULC - Versão Raster suportada pelo GRASS GIS ###"
   ]
  },
  {
   "cell_type": "code",
   "execution_count": null,
   "metadata": {},
   "outputs": [],
   "source": [
    "from gasp.osm2lulc.grs   import raster_based\n",
    "from gasp.osm2lulc.utils import record_time_consumed\n",
    "import datetime\n",
    "import os\n",
    "from gasp.oss import get_filename\n",
    "\n",
    "# Input parameters\n",
    "NOMENCLATURE = \"URBAN_ATLAS\"\n",
    "OSMDATA      = '/home/osmtolulc/tst_osm2lulc/osmfiles/coimbra.xml'\n",
    "refRaster    = '/home/osmtolulc/tst_osm2lulc/boundaries/rst_coimbra_c2.tif'\n",
    "lulcRst      = '/home/osmtolulc/tst_osm2lulc/results_numpy2/grsrst_coimbra2.tif'\n",
    "epsg         = 3857\n",
    "overwrite    = True\n",
    "DATA_STORE   = '/home/osmtolulc/tst_osm2lulc/tmp/grsrst_coimbra2'\n",
    "\n",
    "time_a = datetime.datetime.now().replace(microsecond=0)\n",
    "\n",
    "result, timeCheck = raster_based(\n",
    "    OSMDATA, NOMENCLATURE, refRaster, lulcRst,\n",
    "    epsg=3857, overwrite=overwrite, dataStore=DATA_STORE\n",
    ")\n",
    "\n",
    "time_b = datetime.datetime.now().replace(microsecond=0)\n",
    "\n",
    "record_time_consumed(timeCheck, os.path.join(\n",
    "    os.path.dirname(lulcRst), get_filename(lulcRst) + '.xlsx'\n",
    "))\n",
    "\n",
    "print time_b - time_a"
   ]
  },
  {
   "cell_type": "markdown",
   "metadata": {},
   "source": [
    "### OSM2LULC based in Numpy ###"
   ]
  },
  {
   "cell_type": "code",
   "execution_count": null,
   "metadata": {},
   "outputs": [],
   "source": [
    "\"\"\"\n",
    "Numpy Version\n",
    "\"\"\"\n",
    "\n",
    "from gasp.osm2lulc.num import osm2lulc\n",
    "from gasp.osm2lulc.utils import record_time_consumed\n",
    "import datetime\n",
    "import os\n",
    "from gasp.oss import get_filename\n",
    "\n",
    "# Input parameters\n",
    "NOMENCLATURE = \"URBAN_ATLAS\"\n",
    "OSMDATA      = r'D:\\indev\\OSM2LULC\\OSM2LULC_WEB_Via\\osmfiles\\lisboa.xml'\n",
    "refRaster    = r'D:\\indev\\OSM2LULC\\OSM2LULC_WEB_Via\\boundaries\\r_lisboa_2x2.tif'\n",
    "lulcShp      = r'D:\\indev\\OSM2LULC\\OSM2LULC_WEB_Via\\tst_lisboa3.tif'\n",
    "epsg         = 3857\n",
    "overwrite    = True\n",
    "DATA_STORE   = r'D:\\indev\\OSM2LULC\\OSM2LULC_WEB_Via\\tmp_numlisboa'\n",
    "ROADS_METHD  = 'POSTGIS'\n",
    "\n",
    "time_a = datetime.datetime.now().replace(microsecond=0)\n",
    "\n",
    "result, timeobj = osm2lulc(\n",
    "    OSMDATA, NOMENCLATURE, refRaster, lulcShp, epsg=epsg, overwrite=True, dataStore=DATA_STORE,\n",
    "    roadsAPI=ROADS_METHD\n",
    ")\n",
    "\n",
    "time_b = datetime.datetime.now().replace(microsecond=0)\n",
    "\n",
    "record_time_consumed(timeobj, os.path.join(\n",
    "    os.path.dirname(lulcShp), get_filename(lulcShp) + '.xlsx'\n",
    "))\n",
    "\n",
    "print time_b - time_a"
   ]
  },
  {
   "cell_type": "code",
   "execution_count": null,
   "metadata": {},
   "outputs": [],
   "source": [
    "\"\"\"\n",
    "ArcGIS Version\n",
    "\"\"\"\n",
    "\n",
    "from gasp.osm2lulc.arcg import osm2lulc_vector\n",
    "import datetime\n",
    "\n",
    "OSMDATA      = r'C:\\giswork\\TST_PERF092018\\osmdata\\lisboa_5000.xml'\n",
    "OSMDATA_T    = [\n",
    "    r'C:\\giswork\\TST_PERF092018\\arcg\\osmdata.gdb',\n",
    "    'lisboa_5000',\n",
    "    {\"POINTS\" : \"lisboa_5000_osm_pt\", \"LINES\" : \"lisboa_5000_osm_ln\",\n",
    "    \"POLYGONS\" : \"lisboa_5000_osm_ply\"}\n",
    "]\n",
    "NOMENCLATURE = \"URBAN_ATLAS\"\n",
    "LULC_SHP     = r'C:\\giswork\\TST_PERF092018\\arcg\\in_mem_tst.shp'\n",
    "EPSG         = 3763\n",
    "REF_BOUNDARY = r'C:\\giswork\\TST_PERF092018\\arcg\\ref_bound.shp'\n",
    "\n",
    "time_a = datetime.datetime.now().replace(microsecond=0)\n",
    "\n",
    "result = osm2lulc_vector(OSMDATA_T, REF_BOUNDARY, NOMENCLATURE, LULC_SHP, epsg=EPSG)\n",
    "\n",
    "time_b = datetime.datetime.now().replace(microsecond=0)\n",
    "\n",
    "print time_b - time_a"
   ]
  },
  {
   "cell_type": "code",
   "execution_count": null,
   "metadata": {},
   "outputs": [],
   "source": [
    "from osgeo import gdal\n",
    "from osgeo import osr\n",
    "\n",
    "path = r'D:\\indev\\OSM2LULC\\OSM2LULC_WEB_Via\\boundaries\\rst_lisboa_10x10.tif'\n",
    "d = gdal.Open(path)\n",
    "proj = osr.SpatialReference(wkt=d.GetProjection())\n",
    "print proj.GetAttrValue('AUTHORITY',1)"
   ]
  },
  {
   "cell_type": "code",
   "execution_count": null,
   "metadata": {},
   "outputs": [],
   "source": [
    "from osgeo import ogr\n",
    "from osgeo import osr\n",
    "\n",
    "path = r'D:\\indev\\OSM2LULC\\OSM2LULC_WEB_Via\\near_test\\tst_postgis2.shp'\n",
    "\n",
    "dtsrc = ogr.GetDriverByName('ESRI Shapefile').Open(path)\n",
    "proj = osr.SpatialReference(wkt=dtsrc.GetProjection())\n",
    "print proj.GetAttrValue('AUTHORITY', 1)"
   ]
  },
  {
   "cell_type": "code",
   "execution_count": null,
   "metadata": {},
   "outputs": [],
   "source": []
  }
 ],
 "metadata": {
  "kernelspec": {
   "display_name": "Python 2",
   "language": "python",
   "name": "python2"
  },
  "language_info": {
   "codemirror_mode": {
    "name": "ipython",
    "version": 2
   },
   "file_extension": ".py",
   "mimetype": "text/x-python",
   "name": "python",
   "nbconvert_exporter": "python",
   "pygments_lexer": "ipython2",
   "version": "2.7.15rc1"
  }
 },
 "nbformat": 4,
 "nbformat_minor": 2
}
