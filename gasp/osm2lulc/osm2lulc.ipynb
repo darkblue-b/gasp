{
 "cells": [
  {
   "cell_type": "markdown",
   "metadata": {},
   "source": [
    "### OSM2LULC Parameters ###\n",
    "\n",
    "**NOMENCLATURE** - LULC maps nomenclature; options are: \"URBAN_ATLAS\"|\"CORINE_LAND_COVER\"|\"GLOBE_LAND_COVER\"\n",
    "\n",
    "**OSMDATA** - Path to file with raw OpenStreetMap data\n",
    "\n",
    "**REF_RASTER** -  Reference raster\n",
    "\n",
    "**LULC_RESULT** - Path to result\n",
    "\n",
    "**EPSG** - EPSG code of the REF_RASTER\n",
    "\n",
    "**DATA_FOLDER** - Path to folder where the temporary files will be stored"
   ]
  },
  {
   "cell_type": "code",
   "execution_count": null,
   "metadata": {},
   "outputs": [],
   "source": [
    "NOMENCLATURE = \"URBAN_ATLAS\"\n",
    "OSMDATA      = '/home/osmtolulc/catalonia/osm_catalonia.xml'\n",
    "REF_RASTER   = '/home/osmtolulc/catalonia/r_catalonia.tif'\n",
    "LULC_RESULT  = '/home/osmtolulc/catalonia/lulc_catalonia_ua.shp'\n",
    "EPSG         = 3857\n",
    "DATA_STORE   = os.path.join(os.path.dirname(LULC_RESULT), 'tmp_data')"
   ]
  },
  {
   "cell_type": "markdown",
   "metadata": {},
   "source": [
    "### OSM2LULC - Version 1.1 ###\n",
    "\n",
    "**Dependencies**: GRASS GIS; GDAL/OGR; GeoPandas."
   ]
  },
  {
   "cell_type": "code",
   "execution_count": null,
   "metadata": {},
   "outputs": [],
   "source": [
    "from gasp.osm2lulc.grs   import vector_based\n",
    "from gasp.osm2lulc.utils import record_time_consumed\n",
    "import datetime\n",
    "import os\n",
    "from gasp.oss import get_filename\n",
    "\n",
    "time_a = datetime.datetime.now().replace(microsecond=0)\n",
    "\n",
    "lulcSHP, timeCheck = vector_based(\n",
    "    OSMDATA, NOMENCLATURE, REF_RASTER, LULC_RESULT,\n",
    "    overwrite=True, dataStore=DATA_STORE,\n",
    "    RoadsAPI=\"GRASS\"\n",
    ")\n",
    "\n",
    "time_b = datetime.datetime.now().replace(microsecond=0)\n",
    "\n",
    "record_time_consumed(timeCheck, os.path.join(\n",
    "    os.path.dirname(LULC_RESULT), get_filename(LULC_RESULT) + '.xlsx'\n",
    "))\n",
    "\n",
    "print time_b - time_a"
   ]
  },
  {
   "cell_type": "markdown",
   "metadata": {},
   "source": [
    "### OSM2LULC - Version 1.2 ###\n",
    "\n",
    "**Dependencies**: GRASS GIS; GDAL/OGR; PostGIS; GeoPandas."
   ]
  },
  {
   "cell_type": "code",
   "execution_count": null,
   "metadata": {},
   "outputs": [],
   "source": [
    "from gasp.osm2lulc.grs   import vector_based\n",
    "from gasp.osm2lulc.utils import record_time_consumed\n",
    "import datetime\n",
    "import os\n",
    "from gasp.oss import get_filename\n",
    "\n",
    "time_a = datetime.datetime.now().replace(microsecond=0)\n",
    "\n",
    "lulcSHP, timeCheck = vector_based(\n",
    "    OSMDATA, NOMENCLATURE, REF_RASTER, LULC_RESULT,\n",
    "    overwrite=True, dataStore=DATA_STORE,\n",
    "    RoadsAPI='POSTGIS'\n",
    ")\n",
    "\n",
    "time_b = datetime.datetime.now().replace(microsecond=0)\n",
    "\n",
    "record_time_consumed(timeCheck, os.path.join(\n",
    "    os.path.dirname(LULC_RESULT), get_filename(LULC_RESULT) + '.xlsx'\n",
    "))\n",
    "\n",
    "print time_b - time_a"
   ]
  },
  {
   "cell_type": "markdown",
   "metadata": {},
   "source": [
    "### OSM2LULC - Version 1.3 ###\n",
    "\n",
    "**Dependencies**: GRASS GIS; GDAL/OGR; PostGIS."
   ]
  },
  {
   "cell_type": "code",
   "execution_count": null,
   "metadata": {},
   "outputs": [],
   "source": [
    "from gasp.osm2lulc.grs   import raster_based\n",
    "from gasp.osm2lulc.utils import record_time_consumed\n",
    "import datetime\n",
    "import os\n",
    "from gasp.oss import get_filename\n",
    "\n",
    "time_a = datetime.datetime.now().replace(microsecond=0)\n",
    "\n",
    "result, timeCheck = raster_based(\n",
    "    OSMDATA, NOMENCLATURE, REF_RASTER, LULC_RESULT,\n",
    "    epsg=EPSG, overwrite=True, dataStore=DATA_STORE\n",
    ")\n",
    "\n",
    "time_b = datetime.datetime.now().replace(microsecond=0)\n",
    "\n",
    "record_time_consumed(timeCheck, os.path.join(\n",
    "    os.path.dirname(LULC_RESULT), get_filename(LULC_RESULT) + '.xlsx'\n",
    "))\n",
    "\n",
    "print time_b - time_a"
   ]
  },
  {
   "cell_type": "markdown",
   "metadata": {},
   "source": [
    "### OSM2LULC - Version 1.4 ###\n",
    "\n",
    "**Dependencies**: GDAL/OGR; PostGIS; Numpy."
   ]
  },
  {
   "cell_type": "code",
   "execution_count": null,
   "metadata": {},
   "outputs": [],
   "source": [
    "from gasp.osm2lulc.num import osm2lulc\n",
    "from gasp.osm2lulc.utils import record_time_consumed\n",
    "import datetime\n",
    "import os\n",
    "from gasp.oss import get_filename\n",
    "\n",
    "time_a = datetime.datetime.now().replace(microsecond=0)\n",
    "\n",
    "result, timeobj = osm2lulc(\n",
    "    OSMDATA, NOMENCLATURE, refRaster, LULC_RESULT,\n",
    "    epsg=EPSG, overwrite=True, dataStore=DATA_STORE,\n",
    "    roadsAPI='POSTGIS'\n",
    ")\n",
    "\n",
    "time_b = datetime.datetime.now().replace(microsecond=0)\n",
    "\n",
    "record_time_consumed(timeobj, os.path.join(\n",
    "    os.path.dirname(LULC_RESULT), get_filename(LULC_RESULT) + '.xlsx'\n",
    "))\n",
    "\n",
    "print time_b - time_a"
   ]
  },
  {
   "cell_type": "code",
   "execution_count": null,
   "metadata": {},
   "outputs": [],
   "source": []
  }
 ],
 "metadata": {
  "kernelspec": {
   "display_name": "Python 2",
   "language": "python",
   "name": "python2"
  },
  "language_info": {
   "codemirror_mode": {
    "name": "ipython",
    "version": 2
   },
   "file_extension": ".py",
   "mimetype": "text/x-python",
   "name": "python",
   "nbconvert_exporter": "python",
   "pygments_lexer": "ipython2",
   "version": "2.7.14"
  }
 },
 "nbformat": 4,
 "nbformat_minor": 2
}
