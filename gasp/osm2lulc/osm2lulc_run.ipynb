{
 "cells": [
  {
   "cell_type": "markdown",
   "metadata": {},
   "source": [
    "### OSM2LULC - Versão Vectorial suportada pelo GRASS GIS ###\n",
    "\n",
    "O SQLITE pode ser usado para realizar o processamento associado à Rule 2. Isto tornará todo o processo mais rápido."
   ]
  },
  {
   "cell_type": "code",
   "execution_count": null,
   "metadata": {},
   "outputs": [],
   "source": [
    "from gasp.oss import get_filename\n",
    "from gasp.osm2lulc.grs import vector_based\n",
    "from gasp.osm2lulc import record_time_consumed\n",
    "import datetime\n",
    "import os\n",
    "\n",
    "# Input parameters\n",
    "NOMENCLATURE = \"URBAN_ATLAS\"\n",
    "OSMDATA      = r'C:\\gis\\OSM2LULC_15Nov\\osmfiles\\londres.xml'\n",
    "refRaster    = r'C:\\gis\\OSM2LULC_15Nov\\boundaries\\rst_londres_10x10.tif'\n",
    "lulcShp      = r'C:\\gis\\OSM2LULC_15Nov\\results_v2\\londres_vector_sqlite.shp'\n",
    "epsg         = 3857\n",
    "overwrite    = True\n",
    "DATA_STORE   = r'C:\\gis\\OSM2LULC_15Nov\\data_v2\\londres_vsqlite'\n",
    "ROADS_METHD  = 'SQLITE'\n",
    "\n",
    "time_a = datetime.datetime.now().replace(microsecond=0)\n",
    "\n",
    "lulcSHP, timeCheck = vector_based(\n",
    "    OSMDATA, NOMENCLATURE, refRaster, lulcShp,\n",
    "    epsg=3857, overwrite=True, dataStore=DATA_STORE,\n",
    "    RoadsAPI=ROADS_METHD\n",
    ")\n",
    "\n",
    "time_b = datetime.datetime.now().replace(microsecond=0)\n",
    "\n",
    "record_time_consumed(timeCheck, os.path.join(\n",
    "    os.path.dirname(lulcShp), get_filename(lulcShp) + '.xlsx'\n",
    "))\n",
    "\n",
    "print time_b - time_a"
   ]
  },
  {
   "cell_type": "markdown",
   "metadata": {},
   "source": [
    "### OSM2LULC - Versão Raster suportada pelo GRASS GIS ###"
   ]
  },
  {
   "cell_type": "code",
   "execution_count": null,
   "metadata": {},
   "outputs": [],
   "source": [
    "from gasp.osm2lulc.grs import raster_based\n",
    "from gasp.osm2lulc import record_time_consumed\n",
    "import datetime\n",
    "import os\n",
    "from gasp.oss import get_filename\n",
    "\n",
    "# Input parameters\n",
    "NOMENCLATURE = \"URBAN_ATLAS\"\n",
    "OSMDATA      = r'C:\\gis\\OSM2LULC_15Nov\\osmfiles\\milao.xml'\n",
    "refRaster    = r'C:\\gis\\OSM2LULC_15Nov\\boundaries\\rst_milao_c2.tif'\n",
    "lulcRst      = r'C:\\gis\\OSM2LULC_15Nov\\results\\rst_milao2.tif'\n",
    "epsg         = 3857\n",
    "overwrite    = True\n",
    "DATA_STORE   = r'C:\\gis\\OSM2LULC_15Nov\\data\\rst_milao2'\n",
    "\n",
    "time_a = datetime.datetime.now().replace(microsecond=0)\n",
    "\n",
    "rst, timeCheck = raster_based(OSMDATA, NOMENCLATURE, refRaster, lulcRst,\n",
    "             epsg=3857, overwrite=overwrite, dataStore=DATA_STORE)\n",
    "\n",
    "time_b = datetime.datetime.now().replace(microsecond=0)\n",
    "\n",
    "record_time_consumed(timeCheck, os.path.join(\n",
    "    os.path.dirname(lulcRst), get_filename(lulcRst) + '.xlsx'\n",
    "))\n",
    "\n",
    "print time_b - time_a"
   ]
  },
  {
   "cell_type": "code",
   "execution_count": 1,
   "metadata": {},
   "outputs": [
    {
     "ename": "MemoryError",
     "evalue": "",
     "output_type": "error",
     "traceback": [
      "\u001b[1;31m---------------------------------------------------------------------------\u001b[0m",
      "\u001b[1;31mMemoryError\u001b[0m                               Traceback (most recent call last)",
      "\u001b[1;32m<ipython-input-1-2d0f0c17221c>\u001b[0m in \u001b[0;36m<module>\u001b[1;34m()\u001b[0m\n\u001b[0;32m     23\u001b[0m \u001b[0mtime_a\u001b[0m \u001b[1;33m=\u001b[0m \u001b[0mdatetime\u001b[0m\u001b[1;33m.\u001b[0m\u001b[0mdatetime\u001b[0m\u001b[1;33m.\u001b[0m\u001b[0mnow\u001b[0m\u001b[1;33m(\u001b[0m\u001b[1;33m)\u001b[0m\u001b[1;33m.\u001b[0m\u001b[0mreplace\u001b[0m\u001b[1;33m(\u001b[0m\u001b[0mmicrosecond\u001b[0m\u001b[1;33m=\u001b[0m\u001b[1;36m0\u001b[0m\u001b[1;33m)\u001b[0m\u001b[1;33m\u001b[0m\u001b[0m\n\u001b[0;32m     24\u001b[0m \u001b[1;33m\u001b[0m\u001b[0m\n\u001b[1;32m---> 25\u001b[1;33m \u001b[0mresult\u001b[0m\u001b[1;33m,\u001b[0m \u001b[0mtimeobj\u001b[0m \u001b[1;33m=\u001b[0m \u001b[0mosm2lulc\u001b[0m\u001b[1;33m(\u001b[0m\u001b[0mOSMDATA\u001b[0m\u001b[1;33m,\u001b[0m \u001b[0mNOMENCLATURE\u001b[0m\u001b[1;33m,\u001b[0m \u001b[0mrefRaster\u001b[0m\u001b[1;33m,\u001b[0m \u001b[0mlulcShp\u001b[0m\u001b[1;33m,\u001b[0m \u001b[0mepsg\u001b[0m\u001b[1;33m=\u001b[0m\u001b[0mepsg\u001b[0m\u001b[1;33m,\u001b[0m \u001b[0moverwrite\u001b[0m\u001b[1;33m=\u001b[0m\u001b[0mTrue\u001b[0m\u001b[1;33m,\u001b[0m \u001b[0mdataStore\u001b[0m\u001b[1;33m=\u001b[0m\u001b[0mDATA_STORE\u001b[0m\u001b[1;33m)\u001b[0m\u001b[1;33m\u001b[0m\u001b[0m\n\u001b[0m\u001b[0;32m     26\u001b[0m \u001b[1;33m\u001b[0m\u001b[0m\n\u001b[0;32m     27\u001b[0m \u001b[0mtime_b\u001b[0m \u001b[1;33m=\u001b[0m \u001b[0mdatetime\u001b[0m\u001b[1;33m.\u001b[0m\u001b[0mdatetime\u001b[0m\u001b[1;33m.\u001b[0m\u001b[0mnow\u001b[0m\u001b[1;33m(\u001b[0m\u001b[1;33m)\u001b[0m\u001b[1;33m.\u001b[0m\u001b[0mreplace\u001b[0m\u001b[1;33m(\u001b[0m\u001b[0mmicrosecond\u001b[0m\u001b[1;33m=\u001b[0m\u001b[1;36m0\u001b[0m\u001b[1;33m)\u001b[0m\u001b[1;33m\u001b[0m\u001b[0m\n",
      "\u001b[1;32mC:\\xpto\\gasp\\gasp\\osm2lulc\\num.pyc\u001b[0m in \u001b[0;36mosm2lulc\u001b[1;34m(osmdata, nomenclature, refRaster, lulcRst, epsg, overwrite, dataStore)\u001b[0m\n\u001b[0;32m    168\u001b[0m \u001b[1;33m\u001b[0m\u001b[0m\n\u001b[0;32m    169\u001b[0m             \u001b[1;32mif\u001b[0m \u001b[0mcls\u001b[0m \u001b[1;32mnot\u001b[0m \u001b[1;32min\u001b[0m \u001b[0marrayRst\u001b[0m\u001b[1;33m:\u001b[0m\u001b[1;33m\u001b[0m\u001b[0m\n\u001b[1;32m--> 170\u001b[1;33m                 \u001b[0marrayRst\u001b[0m\u001b[1;33m[\u001b[0m\u001b[0mcls\u001b[0m\u001b[1;33m]\u001b[0m \u001b[1;33m=\u001b[0m \u001b[1;33m[\u001b[0m\u001b[0marray\u001b[0m\u001b[1;33m.\u001b[0m\u001b[0mastype\u001b[0m\u001b[1;33m(\u001b[0m\u001b[0mnumpy\u001b[0m\u001b[1;33m.\u001b[0m\u001b[0mint16\u001b[0m\u001b[1;33m)\u001b[0m\u001b[1;33m]\u001b[0m\u001b[1;33m\u001b[0m\u001b[0m\n\u001b[0m\u001b[0;32m    171\u001b[0m \u001b[1;33m\u001b[0m\u001b[0m\n\u001b[0;32m    172\u001b[0m             \u001b[1;32melse\u001b[0m\u001b[1;33m:\u001b[0m\u001b[1;33m\u001b[0m\u001b[0m\n",
      "\u001b[1;31mMemoryError\u001b[0m: "
     ]
    }
   ],
   "source": [
    "\"\"\"\n",
    "Numpy Version\n",
    "\"\"\"\n",
    "\n",
    "from gasp.osm2lulc.num import osm2lulc\n",
    "from gasp.osm2lulc import record_time_consumed\n",
    "import datetime\n",
    "import os\n",
    "from gasp.oss import get_filename\n",
    "\n",
    "# CELLSIZE = 10 | 0:00:29 | 57MB\n",
    "# CELLSIZE =  5 | 0:00:31 | 57MB\n",
    "# CELLSIZE =  2 | 0:00:42 | 57MB\n",
    "# Input parameters\n",
    "NOMENCLATURE = \"URBAN_ATLAS\"\n",
    "OSMDATA      = r'C:\\gis\\OSM2LULC_15Nov\\osmfiles\\milao.xml'\n",
    "refRaster    = r'C:\\gis\\OSM2LULC_15Nov\\boundaries\\rst_milao_c2.tif'\n",
    "lulcShp      = r'C:\\gis\\OSM2LULC_15Nov\\results\\num_milao2.tif'\n",
    "epsg         = 3857\n",
    "overwrite    = True\n",
    "DATA_STORE   = r'C:\\gis\\OSM2LULC_15Nov\\data\\num_milao2'\n",
    "\n",
    "time_a = datetime.datetime.now().replace(microsecond=0)\n",
    "\n",
    "result, timeobj = osm2lulc(OSMDATA, NOMENCLATURE, refRaster, lulcShp, epsg=epsg, overwrite=True, dataStore=DATA_STORE)\n",
    "\n",
    "time_b = datetime.datetime.now().replace(microsecond=0)\n",
    "\n",
    "record_time_consumed(timeobj, os.path.join(\n",
    "    os.path.dirname(lulcShp), get_filename(lulcShp) + '.xlsx'\n",
    "))\n",
    "\n",
    "print time_b - time_a"
   ]
  },
  {
   "cell_type": "code",
   "execution_count": null,
   "metadata": {},
   "outputs": [],
   "source": [
    "\"\"\"\n",
    "ArcGIS Version\n",
    "\"\"\"\n",
    "\n",
    "from gasp.osm2lulc.arcg import osm2lulc_vector\n",
    "import datetime\n",
    "\n",
    "OSMDATA      = r'C:\\giswork\\TST_PERF092018\\osmdata\\lisboa_5000.xml'\n",
    "OSMDATA_T    = [\n",
    "    r'C:\\giswork\\TST_PERF092018\\arcg\\osmdata.gdb',\n",
    "    'lisboa_5000',\n",
    "    {\"POINTS\" : \"lisboa_5000_osm_pt\", \"LINES\" : \"lisboa_5000_osm_ln\",\n",
    "    \"POLYGONS\" : \"lisboa_5000_osm_ply\"}\n",
    "]\n",
    "NOMENCLATURE = \"URBAN_ATLAS\"\n",
    "LULC_SHP     = r'C:\\giswork\\TST_PERF092018\\arcg\\in_mem_tst.shp'\n",
    "EPSG         = 3763\n",
    "REF_BOUNDARY = r'C:\\giswork\\TST_PERF092018\\arcg\\ref_bound.shp'\n",
    "\n",
    "time_a = datetime.datetime.now().replace(microsecond=0)\n",
    "\n",
    "result = osm2lulc_vector(OSMDATA_T, REF_BOUNDARY, NOMENCLATURE, LULC_SHP, epsg=EPSG)\n",
    "\n",
    "time_b = datetime.datetime.now().replace(microsecond=0)\n",
    "\n",
    "print time_b - time_a"
   ]
  },
  {
   "cell_type": "code",
   "execution_count": null,
   "metadata": {},
   "outputs": [],
   "source": []
  }
 ],
 "metadata": {
  "kernelspec": {
   "display_name": "Python 2",
   "language": "python",
   "name": "python2"
  },
  "language_info": {
   "codemirror_mode": {
    "name": "ipython",
    "version": 2
   },
   "file_extension": ".py",
   "mimetype": "text/x-python",
   "name": "python",
   "nbconvert_exporter": "python",
   "pygments_lexer": "ipython2",
   "version": "2.7.13"
  }
 },
 "nbformat": 4,
 "nbformat_minor": 2
}
