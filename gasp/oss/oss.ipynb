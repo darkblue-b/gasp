{
 "cells": [
  {
   "cell_type": "code",
   "execution_count": null,
   "metadata": {},
   "outputs": [],
   "source": [
    "from gasp.oss.ops import onFolder_rename\n",
    "\n",
    "onFolder_rename(\n",
    "    'C:\\Users\\joaqu\\Downloads\\T11.PUNK.HAZARD', 'OpEx_', 'One_Piece_', only_files=True,\n",
    "    only_folders=None\n",
    ")"
   ]
  },
  {
   "cell_type": "code",
   "execution_count": 1,
   "metadata": {},
   "outputs": [
    {
     "data": {
      "text/plain": [
       "['/home/osmtolulc/webvia/un_v11_v13_mp.shx',\n",
       " '/home/osmtolulc/webvia/un_v11_v13_mp.prj',\n",
       " '/home/osmtolulc/webvia/un_v11_v13_mp.shp',\n",
       " '/home/osmtolulc/webvia/un_v11_v13_mp.dbf']"
      ]
     },
     "execution_count": 1,
     "metadata": {},
     "output_type": "execute_result"
    }
   ],
   "source": [
    "from gasp.oss.ops import rename_files_with_same_name\n",
    "\n",
    "rename_files_with_same_name('/home/osmtolulc/webvia', 'union_v11_v13_mt', 'un_v11_v13_mp')"
   ]
  },
  {
   "cell_type": "code",
   "execution_count": null,
   "metadata": {},
   "outputs": [],
   "source": []
  }
 ],
 "metadata": {
  "kernelspec": {
   "display_name": "Python 2",
   "language": "python",
   "name": "python2"
  },
  "language_info": {
   "codemirror_mode": {
    "name": "ipython",
    "version": 2
   },
   "file_extension": ".py",
   "mimetype": "text/x-python",
   "name": "python",
   "nbconvert_exporter": "python",
   "pygments_lexer": "ipython2",
   "version": "2.7.15rc1"
  }
 },
 "nbformat": 4,
 "nbformat_minor": 2
}
