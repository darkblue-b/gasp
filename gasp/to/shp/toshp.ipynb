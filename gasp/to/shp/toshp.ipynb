{
 "cells": [
  {
   "cell_type": "code",
   "execution_count": null,
   "metadata": {},
   "outputs": [],
   "source": [
    "from gasp.to.shp import psql_to_shp\n",
    "\n",
    "conParam = {\n",
    "    \"HOST\" : \"localhost\", \"USER\" : \"postgres\", \"PORT\" : \"5432\",\n",
    "    \"PASSWORD\" : \"admin\", \"DATABASE\" : \"tnt_db_tmp\"\n",
    "}\n",
    "\n",
    "psql_to_shp(\n",
    "    conParam, \"lines_shape\", r'D:\\gis\\TRENMO_WEBAPP\\otp\\linhas_gtfs.shp',\n",
    "    epsg=4326, geom_col='geom', query=None)"
   ]
  },
  {
   "cell_type": "code",
   "execution_count": null,
   "metadata": {},
   "outputs": [],
   "source": [
    "from gasp.to.shp.gdl import ogr_btw_driver\n",
    "\n",
    "INSHP  = r'D:\\gis\\UNDERSee\\salinity_insitu\\GL_LATEST_PR_PF_1901688_20190107.nc'\n",
    "OUTSHP = r'D:\\gis\\UNDERSee\\salinity_insitu\\teste.shp'\n",
    "\n",
    "ogr_btw_driver(INSHP, OUTSHP)"
   ]
  },
  {
   "cell_type": "code",
   "execution_count": null,
   "metadata": {},
   "outputs": [],
   "source": []
  }
 ],
 "metadata": {
  "kernelspec": {
   "display_name": "Python 2",
   "language": "python",
   "name": "python2"
  },
  "language_info": {
   "codemirror_mode": {
    "name": "ipython",
    "version": 2
   },
   "file_extension": ".py",
   "mimetype": "text/x-python",
   "name": "python",
   "nbconvert_exporter": "python",
   "pygments_lexer": "ipython2",
   "version": "2.7.14"
  }
 },
 "nbformat": 4,
 "nbformat_minor": 2
}
