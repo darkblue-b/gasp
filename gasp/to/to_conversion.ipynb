{
 "cells": [
  {
   "cell_type": "markdown",
   "metadata": {},
   "source": [
    "### Convert All Rasters in Folder to Shapefile ###"
   ]
  },
  {
   "cell_type": "code",
   "execution_count": 1,
   "metadata": {},
   "outputs": [],
   "source": [
    "# Convert using GRASS GIS\n",
    "\n",
    "import os\n",
    "from gasp.to.shp  import rst_to_polyg\n",
    "from gasp.oss     import list_files\n",
    "from gasp.cpu.grs import run_grass\n",
    "from gasp.oss import get_filename\n",
    "\n",
    "GRASS_WORKSPACE = r'C:\\indev\\OSM2LULC_WebVia'\n",
    "GRASS_LOCATION  = 'conv_loc'\n",
    "RST_FOLDER = r'C:\\indev\\OSM2LULC_WebVia\\results_fev19\\coimbra'\n",
    "OUT_FOLDER = r'C:\\indev\\OSM2LULC_WebVia\\results_fev19\\coimbra'\n",
    "SRS = 3857\n",
    "RST_TEMPLATE = r'C:\\indev\\OSM2LULC_WebVia\\results_fev19\\coimbra\\v14_cmb_2x2.tif'\n",
    "\n",
    "# List Raster Files\n",
    "rstFiles = list_files(RST_FOLDER, file_format='tif')\n",
    "\n",
    "# Start GRASS GIS Session\n",
    "grsbase = run_grass(\n",
    "    GRASS_WORKSPACE, location=GRASS_LOCATION, srs=SRS)\n",
    "\n",
    "import grass.script.setup as gsetup\n",
    "gsetup.init(grsbase, GRASS_WORKSPACE, GRASS_LOCATION, 'PERMANENT')\n",
    "\n",
    "from gasp.to.rst.grs import rst_to_grs\n",
    "from gasp.cpu.grs.conf import rst_to_region\n",
    "from gasp.to.shp.grs import grs_to_shp\n",
    "\n",
    "# Set region\n",
    "tmpRst = rst_to_grs(RST_TEMPLATE, get_filename(RST_TEMPLATE), as_cmd=True)\n",
    "rst_to_region(tmpRst)\n",
    "\n",
    "for rst in rstFiles:\n",
    "    # Add data to GRASS GIS\n",
    "    grsRst = rst_to_grs(rst, get_filename(rst), as_cmd=True)\n",
    "    \n",
    "    # Convert to Polygon\n",
    "    shpGrs = rst_to_polyg(\n",
    "        grsRst, grsRst + \"_shp\",\n",
    "        rstColumn=\"value\", gisApi='grasscmd'\n",
    "    )\n",
    "    \n",
    "    # Export to File\n",
    "    grs_to_shp(shpGrs, os.path.join(OUT_FOLDER, grsRst + '.shp'), 'area')"
   ]
  },
  {
   "cell_type": "code",
   "execution_count": null,
   "metadata": {},
   "outputs": [],
   "source": [
    "from gasp.to.rst.gdl import folder_nc_to_tif\n",
    "\n",
    "folder_nc_to_tif(\n",
    "    r'D:\\gis\\UNDERSee\\sentinel_3', r'D:\\gis\\UNDERSee\\sentinel_3'\n",
    ")"
   ]
  }
 ],
 "metadata": {
  "kernelspec": {
   "display_name": "Python 3",
   "language": "python",
   "name": "python3"
  },
  "language_info": {
   "codemirror_mode": {
    "name": "ipython",
    "version": 3
   },
   "file_extension": ".py",
   "mimetype": "text/x-python",
   "name": "python",
   "nbconvert_exporter": "python",
   "pygments_lexer": "ipython3",
   "version": "3.7.2"
  }
 },
 "nbformat": 4,
 "nbformat_minor": 2
}
