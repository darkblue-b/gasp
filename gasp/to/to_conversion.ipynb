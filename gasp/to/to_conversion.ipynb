{
 "cells": [
  {
   "cell_type": "markdown",
   "metadata": {},
   "source": [
    "### Convert All Rasters in Folder to Shapefile ###"
   ]
  },
  {
   "cell_type": "code",
   "execution_count": null,
   "metadata": {},
   "outputs": [],
   "source": [
    "# Convert using GRASS GIS\n",
    "\n",
    "import os\n",
    "from gasp.to.shp  import rst_to_polyg\n",
    "from gasp.oss     import list_files\n",
    "from gasp.cpu.grs import run_grass\n",
    "from gasp.oss import get_filename\n",
    "\n",
    "GRASS_WORKSPACE = r'D:\\indev\\xyz'\n",
    "GRASS_LOCATION  = 'conv_viena'\n",
    "RST_FOLDER = r'D:\\indev\\OSM2LULC\\WEB_Via\\results_fev19\\viena'\n",
    "OUT_FOLDER = r'D:\\indev\\OSM2LULC\\WEB_Via\\results_fev19\\viena'\n",
    "SRS = 3857\n",
    "RST_TEMPLATE = r'D:\\indev\\OSM2LULC\\WEB_Via\\results_fev19\\viena\\v14_viena_2x2.tif'\n",
    "\n",
    "# List Raster Files\n",
    "rstFiles = list_files(RST_FOLDER, file_format='tif')\n",
    "\n",
    "# Start GRASS GIS Session\n",
    "grsbase = run_grass(\n",
    "    GRASS_WORKSPACE, location=GRASS_LOCATION, srs=SRS)\n",
    "\n",
    "import grass.script.setup as gsetup\n",
    "gsetup.init(grsbase, GRASS_WORKSPACE, GRASS_LOCATION, 'PERMANENT')\n",
    "\n",
    "from gasp.to.rst.grs import rst_to_grs\n",
    "from gasp.cpu.grs.conf import rst_to_region\n",
    "from gasp.to.shp.grs import grs_to_shp\n",
    "\n",
    "# Set region\n",
    "tmpRst = rst_to_grs(RST_TEMPLATE, get_filename(RST_TEMPLATE), as_cmd=True)\n",
    "rst_to_region(tmpRst)\n",
    "\n",
    "for rst in rstFiles:\n",
    "    # Add data to GRASS GIS\n",
    "    grsRst = rst_to_grs(rst, get_filename(rst), as_cmd=True)\n",
    "    \n",
    "    # Convert to Polygon\n",
    "    shpGrs = rst_to_polyg(\n",
    "        grsRst, grsRst + \"_shp\",\n",
    "        rstColumn=\"value\", gisApi='grasscmd'\n",
    "    )\n",
    "    \n",
    "    # Export to File\n",
    "    grs_to_shp(shpGrs, os.path.join(OUT_FOLDER, grsRst + '.shp'), 'area')"
   ]
  },
  {
   "cell_type": "markdown",
   "metadata": {},
   "source": [
    "### All Nc in Folders to tiff ###"
   ]
  },
  {
   "cell_type": "code",
   "execution_count": null,
   "metadata": {},
   "outputs": [],
   "source": [
    "from gasp.to.rst.gdl import folder_nc_to_tif\n",
    "\n",
    "folder_nc_to_tif(\n",
    "    r'D:\\gis\\UNDERSee\\sentinel_3', r'D:\\gis\\UNDERSee\\sentinel_3'\n",
    ")"
   ]
  },
  {
   "cell_type": "markdown",
   "metadata": {},
   "source": [
    "### PostgreSQL Table to Feature Class with OGR Driver ###"
   ]
  },
  {
   "cell_type": "code",
   "execution_count": null,
   "metadata": {},
   "outputs": [],
   "source": [
    "from gasp.to.shp import psql_to_shp\n",
    "\n",
    "conParam = {\n",
    "    \"HOST\" : \"localhost\", \"USER\" : \"postgres\", \"PORT\" : \"5432\",\n",
    "    \"PASSWORD\" : \"admin\", \"DATABASE\" : \"v12_londres\"\n",
    "}\n",
    "\n",
    "TABLE = \"near_roads\"\n",
    "OUTPUT = r'D:\\indev\\xyz\\roads_london.shp'\n",
    "SRS_CODE = 3857\n",
    "GEOMETRY_COLUMN = \"geometry\"\n",
    "\n",
    "psql_to_shp(\n",
    "    conParam, TABLE, OUTPUT,\n",
    "    epsg=SRS_CODE, geom_col=GEOMETRY_COLUMN,\n",
    "    tableIsQuery=None, api='pgsql2shp'\n",
    ")"
   ]
  },
  {
   "cell_type": "markdown",
   "metadata": {},
   "source": [
    "### Raster to PostgreSQL Table ###\n",
    "\n",
    "Este método tem um problema específico: num GeoTiff, os dados estão comprimidos, assim, um ficheiro \n",
    "com 6GB pode ter poucos MB porque está compactado; quando convertido para tabela PSQL, esses dados, em princípio, ocuparão 6GB.\n",
    "Há forma de compactar os dados dentro do PostgreSQL?"
   ]
  },
  {
   "cell_type": "code",
   "execution_count": null,
   "metadata": {},
   "outputs": [],
   "source": [
    "import os\n",
    "from gasp.oss     import get_filename\n",
    "from gasp.to.psql import rst_to_psql\n",
    "\n",
    "IN_RASTER = r'D:\\gis\\EXT_CGI\\ref_grids\\grid_pt10x10.tif'\n",
    "CON_PARAM = {\n",
    "    'HOST': 'localhost', 'PORT': '5432',\n",
    "    'PASSWORD': 'admin', 'USER': 'postgres',\n",
    "    'DATABASE': 'expvgi_sdi'\n",
    "}\n",
    "EPSG = 3763\n",
    "\n",
    "rst_to_psql(IN_RASTER, EPSG, lnk=CON_PARAM, sql_script=os.path.join(\n",
    "    os.path.dirname(IN_RASTER), get_filename(IN_RASTER) + '.sql'\n",
    "))"
   ]
  },
  {
   "cell_type": "markdown",
   "metadata": {},
   "source": [
    "### Folder with TXT Files to PostgreSQL Database ###\n",
    "\n",
    "Create a new database and add each TXT in Folder as PSQL Table. "
   ]
  },
  {
   "cell_type": "code",
   "execution_count": null,
   "metadata": {},
   "outputs": [],
   "source": [
    "from gasp.topsql import txts_to_newdb\n",
    "\n",
    "CON_PARAM = {\n",
    "    \"HOST\"     : \"localhost\", \"PORT\" : \"5432\", \"USER\" : \"postgres\",\n",
    "    \"PASSWORD\" : \"admin\", \"TEMPLATE\" : \"postgis_template\"\n",
    "}\n",
    "\n",
    "TXT_FOLDER = r'D:\\gis\\TRENMO_WEBAPP\\GTFS'\n",
    "\n",
    "NEW_DB = \"trenmogtfs\"\n",
    "\n",
    "DELIMITER = \",\"\n",
    "\n",
    "txts_to_newdb(CON_PARAM, TXT_FOLDER, NEW_DB, DELIMITER, rewrite=True)"
   ]
  },
  {
   "cell_type": "markdown",
   "metadata": {},
   "source": [
    "### All tables in PostgreSQL Database to TXT File ###\n",
    "\n",
    "Each table in one database is converted to a single TXT File."
   ]
  },
  {
   "cell_type": "code",
   "execution_count": null,
   "metadata": {},
   "outputs": [],
   "source": [
    "from gasp.to.txt import psqldb_to_txt\n",
    "\n",
    "SPLITTER   = '\\t'\n",
    "OUT_FOLDER = '/home/jasp/xpto/expvgi-webapp/old_models'\n",
    "conParam   = {\n",
    "    \"HOST\" : \"localhost\", \"USER\" : \"postgres\", \"PORT\" : \"5432\",\n",
    "    \"PASSWORD\" : \"admin\", \"DATABASE\" : \"expvgi_db\"\n",
    "}\n",
    "\n",
    "psqldb_to_txt(SPLITTER, OUT_FOLDER, conParam)"
   ]
  },
  {
   "cell_type": "markdown",
   "metadata": {},
   "source": [
    "### DB Table to XLS File ###"
   ]
  },
  {
   "cell_type": "code",
   "execution_count": 1,
   "metadata": {},
   "outputs": [
    {
     "data": {
      "text/plain": [
       "'C:\\\\indev\\\\osm_highway.xlsx'"
      ]
     },
     "execution_count": 1,
     "metadata": {},
     "output_type": "execute_result"
    }
   ],
   "source": [
    "from gasp.to.xls import dbtbl_to_xls\n",
    "\n",
    "QS = (\n",
    "    \"SELECT id, key, value, buffer_dist FROM osm_features \"\n",
    "    \"INNER JOIN osm_ua ON osm_features.id = osm_ua.osm_id \"\n",
    "    \"WHERE rule_id = 2\"\n",
    ")\n",
    "\n",
    "XLS = r'C:\\indev\\osm_highway.xlsx'\n",
    "SHEETS = 'highway'\n",
    "\n",
    "CON_DB = r'C:\\xpto\\gasp\\gasp\\osm2lulc\\osmtolulc.sqlite'\n",
    "\n",
    "DB_API = 'sqlite'\n",
    "\n",
    "dbtbl_to_xls(QS, XLS, SHEETS, CON_DB, dbapi=DB_API)"
   ]
  },
  {
   "cell_type": "code",
   "execution_count": null,
   "metadata": {},
   "outputs": [],
   "source": []
  }
 ],
 "metadata": {
  "kernelspec": {
   "display_name": "Python 2",
   "language": "python",
   "name": "python2"
  },
  "language_info": {
   "codemirror_mode": {
    "name": "ipython",
    "version": 2
   },
   "file_extension": ".py",
   "mimetype": "text/x-python",
   "name": "python",
   "nbconvert_exporter": "python",
   "pygments_lexer": "ipython2",
   "version": "2.7.14"
  }
 },
 "nbformat": 4,
 "nbformat_minor": 2
}
