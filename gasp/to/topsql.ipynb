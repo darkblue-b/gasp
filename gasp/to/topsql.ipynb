{
 "cells": [
  {
   "cell_type": "code",
   "execution_count": null,
   "metadata": {},
   "outputs": [],
   "source": [
    "from gasp.topsql import txts_to_newdb\n",
    "\n",
    "CON_PARAM = {\n",
    "    \"HOST\"     : \"localhost\", \"PORT\" : \"5432\", \"USER\" : \"postgres\",\n",
    "    \"PASSWORD\" : \"admin\", \"TEMPLATE\" : \"postgis_template\"\n",
    "}\n",
    "\n",
    "TXT_FOLDER = r'D:\\gis\\TRENMO_WEBAPP\\GTFS'\n",
    "\n",
    "NEW_DB = \"trenmogtfs\"\n",
    "\n",
    "DELIMITER = \",\"\n",
    "\n",
    "txts_to_newdb(CON_PARAM, TXT_FOLDER, NEW_DB, DELIMITER, rewrite=True)"
   ]
  },
  {
   "cell_type": "code",
   "execution_count": null,
   "metadata": {},
   "outputs": [],
   "source": [
    "import os\n",
    "from gasp.oss     import get_filename\n",
    "from gasp.to.psql import rst_to_psql\n",
    "\n",
    "IN_RASTER = r'D:\\gis\\EXT_CGI\\ref_grids\\grid_pt10x10.tif'\n",
    "CON_PARAM = {\n",
    "    'HOST': 'localhost', 'PORT': '5432',\n",
    "    'PASSWORD': 'admin', 'USER': 'postgres',\n",
    "    'DATABASE': 'expvgi_sdi'\n",
    "}\n",
    "EPSG = 3763\n",
    "\n",
    "rst_to_psql(IN_RASTER, EPSG, lnk=CON_PARAM, sql_script=os.path.join(\n",
    "    os.path.dirname(IN_RASTER), get_filename(IN_RASTER) + '.sql'\n",
    "))"
   ]
  },
  {
   "cell_type": "code",
   "execution_count": null,
   "metadata": {},
   "outputs": [],
   "source": []
  }
 ],
 "metadata": {
  "kernelspec": {
   "display_name": "Python 2",
   "language": "python",
   "name": "python2"
  },
  "language_info": {
   "codemirror_mode": {
    "name": "ipython",
    "version": 2
   },
   "file_extension": ".py",
   "mimetype": "text/x-python",
   "name": "python",
   "nbconvert_exporter": "python",
   "pygments_lexer": "ipython2",
   "version": "2.7.12"
  }
 },
 "nbformat": 4,
 "nbformat_minor": 2
}
