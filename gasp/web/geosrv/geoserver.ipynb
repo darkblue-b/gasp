{
 "cells": [
  {
   "cell_type": "code",
   "execution_count": null,
   "metadata": {},
   "outputs": [],
   "source": [
    "from gasp.geosrv.migration import pgtables_to_layer_withStyle_by_col\n",
    "\n",
    "TABLES   = ['atlas_municipios']\n",
    "SLD_DATA = r'D:\\gis\\DADOS_JUSTSIDE\\map_migration_geosrv.xlsx'\n",
    "PGSQL_CON = {\n",
    "    'HOST' : 'localhost', 'USER' : 'postgres', 'PORT' : '5432',\n",
    "    'PASSWORD' : 'admin', 'DATABASE' : 'justside_db'\n",
    "}\n",
    "\n",
    "WORKSPACE  = 'justside'\n",
    "GEOSRV_CON = {\n",
    "    'HOST' : 'localhost', 'USER' : 'admin', 'PORT' : '8888',\n",
    "    'PASSWORD' : 'geoserver'\n",
    "}\n",
    "\n",
    "COLS_EXCLUDE = ['fid', 'geocod', 'geom', 'statunit']\n",
    "\n",
    "PATH_SLDS = r'D:\\gis-senpy\\justside'\n",
    "\n",
    "pgtables_to_layer_withStyle_by_col(\n",
    "    TABLES, SLD_DATA, PGSQL_CON, workName=WORKSPACE, geoserver_con=GEOSRV_CON,\n",
    "    exclude_cols=COLS_EXCLUDE, pathToSLDfiles=PATH_SLDS\n",
    ")"
   ]
  },
  {
   "cell_type": "code",
   "execution_count": null,
   "metadata": {},
   "outputs": [],
   "source": [
    "\"\"\"\n",
    "Add Raster Layer to GeoServer\n",
    "\"\"\"\n",
    "\n",
    "from gasp.geosrv.wspace import create_workspace\n",
    "from gasp.geosrv.stores import add_raster_store\n",
    "from gasp.geosrv.lyrs import publish_raster_layer\n",
    "\n",
    "GEOSRV_CON = {\n",
    "    'HOST' : 'localhost', 'USER' : 'admin', 'PORT' : '8888',\n",
    "    'PASSWORD' : 'geoserver'\n",
    "}\n",
    "\n",
    "WORKSPACE = \"tst_ruru\"\n",
    "STORE_NAME = \"tst_img\"\n",
    "RASTER_FILE = r\"D:\\gis\\cw_data_ruicruz\\multibnd.tif\"\n",
    "\n",
    "create_workspace(WORKSPACE, conf=GEOSRV_CON)\n",
    "add_raster_store(RASTER_FILE, STORE_NAME, WORKSPACE, conf=GEOSRV_CON)\n",
    "publish_raster_layer(\"multiband\", STORE_NAME, WORKSPACE, 32629, conf=GEOSRV_CON)"
   ]
  },
  {
   "cell_type": "code",
   "execution_count": null,
   "metadata": {},
   "outputs": [],
   "source": []
  }
 ],
 "metadata": {
  "kernelspec": {
   "display_name": "Python 2",
   "language": "python",
   "name": "python2"
  },
  "language_info": {
   "codemirror_mode": {
    "name": "ipython",
    "version": 2
   },
   "file_extension": ".py",
   "mimetype": "text/x-python",
   "name": "python",
   "nbconvert_exporter": "python",
   "pygments_lexer": "ipython2",
   "version": "2.7.14"
  }
 },
 "nbformat": 4,
 "nbformat_minor": 2
}
